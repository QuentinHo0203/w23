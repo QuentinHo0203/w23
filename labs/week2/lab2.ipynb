{
  "cells": [
    {
      "cell_type": "markdown",
      "metadata": {
        "id": "mXlIBIZPgI53"
      },
      "source": [
        "# Lab 2: ggplot and dplyr\n",
        "\n",
        "\n"
      ]
    },
    {
      "cell_type": "code",
      "source": [
        "install.packages('ggplot2')\n",
        "install.packages('dplyr')\n",
        "install.packages('palmerpenguins')\n",
        "install.packages('nycflights13')"
      ],
      "metadata": {
        "id": "-G1xJlHhhJr6"
      },
      "execution_count": null,
      "outputs": []
    },
    {
      "cell_type": "code",
      "source": [
        "options(warn=-1)\n",
        "\n",
        "library(palmerpenguins)\n",
        "library(ggplot2)\n",
        "library(dplyr)\n",
        "library(nycflights13)"
      ],
      "metadata": {
        "id": "u4eZv0Ihu1kd"
      },
      "execution_count": null,
      "outputs": []
    },
    {
      "cell_type": "markdown",
      "source": [
        "# Introducing ggplot\n",
        "\n",
        "Every ggplot2 plot has three key components:\n",
        "\n",
        "- data,\n",
        "\n",
        "- A set of aesthetic mappings between variables in the data and visual properties, and\n",
        "\n",
        "- At least one layer which describes how to render each observation. Layers are usually created with a geom function.\n",
        "\n",
        "(Source: https://ggplot2-book.org/getting-started.html)"
      ],
      "metadata": {
        "id": "QV-OERIag14n"
      }
    },
    {
      "cell_type": "code",
      "source": [
        "# The first basic scatter plot\n",
        "ggplot(data=penguins, mapping=aes(x=bill_length_mm, y=bill_depth_mm)) + \n",
        "    geom_point() # continue code on a new line with \"+\" operator"
      ],
      "metadata": {
        "id": "QOkpu-IyiTz7"
      },
      "execution_count": null,
      "outputs": []
    },
    {
      "cell_type": "code",
      "source": [
        "# An equivalent way of plotting the above\n",
        "ggplot(data=penguins) + \n",
        "    geom_point(aes(x=bill_length_mm, y=bill_depth_mm))"
      ],
      "metadata": {
        "id": "N5ENz-0-nwkT"
      },
      "execution_count": null,
      "outputs": []
    },
    {
      "cell_type": "code",
      "source": [
        "#  A more professionally formatted plot\n",
        "ggplot(data=penguins) + \n",
        "    geom_point(aes(x=bill_length_mm, y=bill_depth_mm)) +\n",
        "    labs(x='bill length (in mm)', y='bill depth (in mm)') + # add axes' labels\n",
        "    ggtitle('Scatter plot : bill length vs bill depth') +  # add plot's title\n",
        "    theme_bw() # add a theme layer"
      ],
      "metadata": {
        "id": "XUt3JoqDkgwH"
      },
      "execution_count": null,
      "outputs": []
    },
    {
      "cell_type": "markdown",
      "source": [
        "### Layering Geometric Objects\n",
        "\n",
        "Suppose we are interested in identifying trends in our data. We can plot a smooth line of best fit as follows."
      ],
      "metadata": {
        "id": "-F7i6Fagl3d3"
      }
    },
    {
      "cell_type": "code",
      "source": [
        "ggplot(data=penguins, mapping=aes(x=bill_length_mm, y=bill_depth_mm)) + \n",
        "    geom_point() +\n",
        "    geom_smooth() + # add a second smoothing line\n",
        "    labs(x='bill length (in mm)', y='bill depth (in mm)') +\n",
        "    ggtitle('Scatter plot for bill length and bill depth') + \n",
        "    theme_bw() "
      ],
      "metadata": {
        "id": "_bnF1h7-mgvN"
      },
      "execution_count": null,
      "outputs": []
    },
    {
      "cell_type": "markdown",
      "source": [
        "### **Exercise 1**\n",
        "\n",
        "Make a scatterplot of bill_depth_mm vs. bill_length_mm and color the points by species. What does adding coloring by species reveal about the relationship between these two variables?"
      ],
      "metadata": {
        "id": "7yfM_o68nUWE"
      }
    },
    {
      "cell_type": "code",
      "source": [
        "#@title Answer to exercise 1\n",
        "\n",
        "ggplot(data=penguins) + \n",
        "    geom_point(aes(x=bill_length_mm, y=bill_depth_mm,  color = species)) +\n",
        "    labs(x='bill length (in mm)', y='bill depth (in mm)') + \n",
        "    ggtitle('Scatter plot : bill length vs bill depth') +  \n",
        "    theme_bw() \n",
        "\n",
        "# the below illustration suggests that we can classify penguins' species by their\n",
        "# combination of bill length and bill depth"
      ],
      "metadata": {
        "id": "ZLdv-rsqnloQ",
        "cellView": "form"
      },
      "execution_count": null,
      "outputs": []
    },
    {
      "cell_type": "markdown",
      "source": [
        "### Bar plots, histograms and box plots with ggplot"
      ],
      "metadata": {
        "id": "Rqa-KgpOsd3n"
      }
    },
    {
      "cell_type": "code",
      "source": [
        "# bar plot for  penguin species' counts\n",
        "ggplot(penguins, aes(x = species)) +\n",
        "  geom_bar() +\n",
        "  ggtitle('Penguin species count') +\n",
        "  theme_bw()\n",
        "\n",
        "penguins_nona <- penguins %>% na.omit() # dropping rows with missing values\n",
        "\n",
        "# using bar plot to visualise the relationship between species and sex\n",
        "ggplot(penguins_nona, aes(x = species, fill = sex)) +\n",
        "  geom_bar() +\n",
        "  ggtitle('Species vs Sex') +\n",
        "  theme_bw()\n",
        "\n",
        "# using proportional bar plot to visualise the relationship between species and sex\n",
        "ggplot(penguins_nona, aes(x = species, fill = sex)) +\n",
        "  ggtitle('Species vs Sex (Proportional) ') +\n",
        "  geom_bar(position = \"fill\")"
      ],
      "metadata": {
        "id": "E_zrlHT6tRq6"
      },
      "execution_count": null,
      "outputs": []
    },
    {
      "cell_type": "code",
      "source": [
        "# histogram plot for bill_depth_mm\n",
        "ggplot(penguins, aes(x = bill_depth_mm)) +\n",
        "  geom_histogram(binwidth = 0.25) +\n",
        "  theme_bw()\n",
        "\n",
        "# density plot for bill_depth_mm\n",
        "ggplot(penguins, aes(x = bill_depth_mm)) +\n",
        "  geom_density() +\n",
        "  theme_bw()"
      ],
      "metadata": {
        "id": "l6ks7w9lwoMD"
      },
      "execution_count": null,
      "outputs": []
    },
    {
      "cell_type": "code",
      "source": [
        "# Use box plot to inspect penguins' boday mass across islands\n",
        "ggplot(penguins, aes(x = island, y = body_mass_g)) +\n",
        "  geom_boxplot() +\n",
        "  theme_bw()"
      ],
      "metadata": {
        "id": "iyihmqFQxwu5"
      },
      "execution_count": null,
      "outputs": []
    },
    {
      "cell_type": "markdown",
      "source": [
        "### **Exercise 2**\n",
        "\n",
        "Create the following grahics:\n",
        "\n",
        "1. A barplot for the counts of species subvided by island of which **the bars are not overlapped**.\n",
        "2. A histogram plot for body_mass_g\n",
        "3. A boxplot that explores the relationship between penguins'sex and body_mass_g **where the penguins' sex is the y-axis**."
      ],
      "metadata": {
        "id": "7tOQcOC29MTa"
      }
    },
    {
      "cell_type": "code",
      "source": [
        "#@title Answer to exercise 2\n",
        "ggplot(penguins, aes(x = species, fill = island)) +\n",
        "  geom_bar( position = \"dodge\") +\n",
        "  theme_bw()\n",
        "\n",
        "ggplot(penguins, aes(x = body_mass_g)) +\n",
        "  geom_histogram(binwidth = 100) +\n",
        "  theme_bw()\n",
        "\n",
        "\n",
        "penguins_nona = penguins %>% na.omit()\n",
        "ggplot(penguins_nona, aes(x = sex, y = body_mass_g)) +\n",
        "  geom_boxplot() +\n",
        "  coord_flip() +\n",
        "  theme_bw()"
      ],
      "metadata": {
        "id": "GRefx359-MnF",
        "cellView": "form"
      },
      "execution_count": null,
      "outputs": []
    },
    {
      "cell_type": "markdown",
      "metadata": {
        "id": "RD13AdsGgI6D"
      },
      "source": [
        "\n",
        "\n",
        "# dplyr for data manipulation"
      ]
    },
    {
      "cell_type": "markdown",
      "source": [
        "In the next part of the lab, we are working with the dataframe \"flights\" from the library \"nycflights13\". "
      ],
      "metadata": {
        "id": "Ilgw8bcNAnmx"
      }
    },
    {
      "cell_type": "code",
      "execution_count": null,
      "metadata": {
        "id": "XEVQzdaIgI6D"
      },
      "outputs": [],
      "source": [
        "head(flights) # look at the first few rows of the dataframe"
      ]
    },
    {
      "cell_type": "code",
      "source": [
        "help(flights) # read the dataset descripion"
      ],
      "metadata": {
        "id": "j1XJQq6r5kXt"
      },
      "execution_count": null,
      "outputs": []
    },
    {
      "cell_type": "markdown",
      "metadata": {
        "id": "R_qKGktWgI6E"
      },
      "source": [
        "There are five functions in dplyr: select, filter, arrange, mutate and summarise. All of them have the following properties:\n",
        "1. The first argument is a data frame.\n",
        "2. The subsequent arguments describe what to do with the data frame, using the variable names( without quotes).\n",
        "3. The result is a new data frame."
      ]
    },
    {
      "cell_type": "markdown",
      "metadata": {
        "id": "s02ti85igI6H"
      },
      "source": [
        "## Select\n",
        "This is used to reduce the number of columns that we're dealing with. Useful for things like genetic data"
      ]
    },
    {
      "cell_type": "code",
      "execution_count": null,
      "metadata": {
        "id": "5WJR3iWvgI6H"
      },
      "outputs": [],
      "source": [
        "names(flights)"
      ]
    },
    {
      "cell_type": "code",
      "execution_count": null,
      "metadata": {
        "id": "Y_o-cNdVgI6H"
      },
      "outputs": [],
      "source": [
        "df <- select(flights, time_hour, carrier, flight, origin, dest, distance)\n",
        "print(df)"
      ]
    },
    {
      "cell_type": "markdown",
      "source": [
        "##### **Pipe**\n",
        "\n",
        "Because the first argument is a data frame and the output is a data frame, dplyr verbs work well with the pipe, %>% (or |>). The pipe takes the thing on its left and passes it along to the function on its right"
      ],
      "metadata": {
        "id": "hZ9zrJd0E9xv"
      }
    },
    {
      "cell_type": "code",
      "source": [
        "flights %>%  \n",
        "  select(time_hour, carrier, flight, origin, dest, distance) %>%  # select columns by name\n",
        "  print() # print the resulted dataframe"
      ],
      "metadata": {
        "id": "7mhaDgacFXo_"
      },
      "execution_count": null,
      "outputs": []
    },
    {
      "cell_type": "code",
      "execution_count": null,
      "metadata": {
        "id": "fsVghdGmgI6H"
      },
      "outputs": [],
      "source": [
        "flights %>% \n",
        "  select(carrier:distance) %>% # slice selecting all columns from carrier to distance\n",
        "  print() "
      ]
    },
    {
      "cell_type": "code",
      "execution_count": null,
      "metadata": {
        "id": "w4xG_IGLgI6H"
      },
      "outputs": [],
      "source": [
        "flights %>% \n",
        "  select( -c(year, month, day) ) %>% # do not show columns year, month, days\n",
        "  print() "
      ]
    },
    {
      "cell_type": "markdown",
      "metadata": {
        "id": "ZcKeRfkcgI6H"
      },
      "source": [
        "Use rename(), which is a variant of select(), to rename a column and keep all the variables that aren't explicitly mentioned:"
      ]
    },
    {
      "cell_type": "code",
      "execution_count": null,
      "metadata": {
        "id": "GnrY_rL0gI6I"
      },
      "outputs": [],
      "source": [
        "flights %>% \n",
        "  rename(x = carrier) %>%\n",
        "  print()"
      ]
    },
    {
      "cell_type": "markdown",
      "metadata": {
        "id": "S1US-LHwgI6I"
      },
      "source": [
        "Another option is to use select() in conjunction with the everything() helper. This is useful if you have a handful of variables you would like to move to the start of the dataframe"
      ]
    },
    {
      "cell_type": "code",
      "execution_count": null,
      "metadata": {
        "id": "Jqgohi86gI6I"
      },
      "outputs": [],
      "source": [
        "flights %>% \n",
        "  select(carrier, tailnum, everything()) %>%\n",
        "  print()"
      ]
    },
    {
      "cell_type": "markdown",
      "metadata": {
        "id": "z9baaASLgI6I"
      },
      "source": [
        "There are some helper functions for select():\n",
        "    starts_with()\n",
        "    ends_with()\n",
        "    contains()\n",
        "    \n",
        "### Exercise 3.a:\n",
        "Write code that wil have tailnum as the first column and the columns starting with the letter 'd' as the following columns.\n",
        "\n"
      ]
    },
    {
      "cell_type": "code",
      "source": [
        "#@title Answer to exercise 3.a\n",
        "flights %>% \n",
        "  select(tailnum, starts_with('d')) %>%\n",
        "  print()"
      ],
      "metadata": {
        "id": "l2E8wro9J8j-",
        "cellView": "form"
      },
      "execution_count": null,
      "outputs": []
    },
    {
      "cell_type": "markdown",
      "metadata": {
        "id": "FI2TXCdYgI6E"
      },
      "source": [
        "## Filter\n",
        "Used if you want to view or store a new dataset containing a subset of the full dataset."
      ]
    },
    {
      "cell_type": "code",
      "execution_count": null,
      "metadata": {
        "id": "fbwvP-_egI6E"
      },
      "outputs": [],
      "source": [
        "flights %>% \n",
        "  filter(carrier == 'UA') %>% # select only United Airline data records\n",
        "  print()"
      ]
    },
    {
      "cell_type": "markdown",
      "metadata": {
        "id": "AXGjw2gvgI6E"
      },
      "source": [
        "Usually you want to store the newly subsetted data in memory. "
      ]
    },
    {
      "cell_type": "code",
      "execution_count": null,
      "metadata": {
        "id": "BONroI9TgI6E"
      },
      "outputs": [],
      "source": [
        "ua_flights = flights %>% filter(carrier == 'UA')"
      ]
    },
    {
      "cell_type": "markdown",
      "metadata": {
        "id": "PmUiZd78gI6F"
      },
      "source": [
        "Make sure to use '==' instead of '='. The former is to test equality while the latter is for assignments. "
      ]
    },
    {
      "cell_type": "code",
      "execution_count": null,
      "metadata": {
        "id": "CEJMS0jhgI6F"
      },
      "outputs": [],
      "source": [
        "4 == 6\n",
        "x = 6\n",
        "x\n",
        "x == 5\n"
      ]
    },
    {
      "cell_type": "markdown",
      "source": [
        "Use %in% if the filtering variable can take multiple values."
      ],
      "metadata": {
        "id": "a0GDsqPmMATo"
      }
    },
    {
      "cell_type": "code",
      "source": [
        " flights %>% \n",
        "   filter(carrier %in% c('UA', 'AA', 'DL')) %>% # get only rows with these specific carriers\n",
        "   print()"
      ],
      "metadata": {
        "id": "Tl7RpXrPMYZq"
      },
      "execution_count": null,
      "outputs": []
    },
    {
      "cell_type": "markdown",
      "metadata": {
        "id": "rLiCKZ3VgI6F"
      },
      "source": [
        "## Logical conditions"
      ]
    },
    {
      "cell_type": "code",
      "execution_count": null,
      "metadata": {
        "id": "76bJZXSYgI6F"
      },
      "outputs": [],
      "source": [
        "summer_flights = flights %>% filter(month == 6 | month == 7 | month == 8) \n",
        "# filtering for rows that satisfy one or all of the conditions\n",
        "\n",
        "ua_december = flights %>% filter(carrier == 'UA' & month == 12) \n",
        "# filtering for rows that satisfy both conditions\n",
        "\n",
        "short_flights = flights %>% filter(air_time < 60) \n",
        "# can do this because air_time is a numeric variable"
      ]
    },
    {
      "cell_type": "markdown",
      "metadata": {
        "id": "tR0i8zgsgI6F"
      },
      "source": [
        "In R, if you want to find if a variable's value is missing, use the is.na() function. In particular, do not check for equality with NA:"
      ]
    },
    {
      "cell_type": "code",
      "execution_count": null,
      "metadata": {
        "id": "u8u4KRIOgI6F"
      },
      "outputs": [],
      "source": [
        "x = 4"
      ]
    },
    {
      "cell_type": "code",
      "execution_count": null,
      "metadata": {
        "id": "WxObBwP1gI6G"
      },
      "outputs": [],
      "source": [
        "x == NA\n",
        "is.na(x)"
      ]
    },
    {
      "cell_type": "markdown",
      "metadata": {
        "id": "1Gdc7oKRgI6G"
      },
      "source": [
        "This function can be used with filter() to remove the rows with NA values."
      ]
    },
    {
      "cell_type": "code",
      "execution_count": null,
      "metadata": {
        "id": "xRk0WTp6gI6G"
      },
      "outputs": [],
      "source": [
        "flights_nona = flights %>% filter( !is.na(dep_time))"
      ]
    },
    {
      "cell_type": "code",
      "execution_count": null,
      "metadata": {
        "id": "cgWfRgaQgI6G"
      },
      "outputs": [],
      "source": [
        "print(dim(flights))\n",
        "print(dim(flights_nona))"
      ]
    },
    {
      "cell_type": "markdown",
      "metadata": {
        "id": "iJ-BX4PEgI6G"
      },
      "source": [
        "### Exercise 3.b\n",
        "\n",
        "Write code using filter that selects all the rows of carrier 'AA' on the last day of month."
      ]
    },
    {
      "cell_type": "code",
      "source": [
        "#@title Answer to exercise 3.b\n",
        "month31 = c(1, 3, 5, 7, 8, 10, 12)\n",
        "month30 = c(4, 6, 9, 11)\n",
        "month28 = c(2)\n",
        "\n",
        "# use filter with complex conditions\n",
        "flights %>% \n",
        "  filter(carrier == 'AA') %>%\n",
        "  filter( ( (month %in% month31) & (day == 31) ) | \n",
        "          ( (month %in% month30) & (day == 30) ) | \n",
        "          ( (month %in% month28) & (day == 28) ) ) %>%\n",
        "  print()"
      ],
      "metadata": {
        "cellView": "form",
        "id": "j2UbO7MKQ-vI"
      },
      "execution_count": null,
      "outputs": []
    },
    {
      "cell_type": "markdown",
      "metadata": {
        "id": "bNzizAjEgI6G"
      },
      "source": [
        "## Arrange\n",
        "\n",
        "Useful for ordering rows of the dataframe."
      ]
    },
    {
      "cell_type": "code",
      "execution_count": null,
      "metadata": {
        "id": "xDQfL7GEgI6G"
      },
      "outputs": [],
      "source": [
        "flights %>%\n",
        "  arrange(year, month, day, dep_time) %>% \n",
        "  print()\n",
        "# can be done since year, month, day, dep_time are numeric"
      ]
    },
    {
      "cell_type": "code",
      "execution_count": null,
      "metadata": {
        "id": "eTELpOPygI6G"
      },
      "outputs": [],
      "source": [
        "# arranging in the increasing order of year the descending order of month, day\n",
        "flights %>%\n",
        "  arrange(year, desc(month), desc(day))"
      ]
    },
    {
      "cell_type": "markdown",
      "metadata": {
        "id": "Bz30WZPjgI6H"
      },
      "source": [
        "Missing values are always sorted at the end:"
      ]
    },
    {
      "cell_type": "code",
      "execution_count": null,
      "metadata": {
        "id": "RhzonEwvgI6H"
      },
      "outputs": [],
      "source": [
        "df = tibble(x = c(5, NA, 2))\n",
        "df %>% arrange(x)"
      ]
    },
    {
      "cell_type": "code",
      "execution_count": null,
      "metadata": {
        "id": "ovVeM4FRgI6H"
      },
      "outputs": [],
      "source": [
        "df %>% arrange(desc(x))"
      ]
    },
    {
      "cell_type": "markdown",
      "source": [
        "### Exercise 3.c\n",
        "Use arrange to sort flights dataset by descending order of the division of distance by air_time. "
      ],
      "metadata": {
        "id": "PECwV9amEIbL"
      }
    },
    {
      "cell_type": "code",
      "source": [
        "#@title Answer to exercise 3.c\n",
        "\n",
        "flights %>% \n",
        "  arrange(desc(distance / air_time)) %>%\n",
        "  print()"
      ],
      "metadata": {
        "id": "rmZ_6UMrbZWB",
        "cellView": "form"
      },
      "execution_count": null,
      "outputs": []
    },
    {
      "cell_type": "markdown",
      "source": [
        "### Mutate\n",
        "\n",
        "The role of mutate() is to add new columns that are calculated from the existing columns. By default, mutate() adds new columns on the right hand side of your dataset"
      ],
      "metadata": {
        "id": "6vO-TOGBECyo"
      }
    },
    {
      "cell_type": "code",
      "execution_count": null,
      "metadata": {
        "id": "4R6h2IePgI6I"
      },
      "outputs": [],
      "source": [
        "flights %>% \n",
        "  mutate(speed = distance / air_time * 60) %>%\n",
        "  print()"
      ]
    },
    {
      "cell_type": "markdown",
      "source": [
        "To add the variables to the left hand side2 use .before."
      ],
      "metadata": {
        "id": "a8wIgLXcf8mO"
      }
    },
    {
      "cell_type": "code",
      "source": [
        "flights %>% \n",
        "  mutate(speed = distance / air_time * 60, .before = 1) %>%\n",
        "  print()"
      ],
      "metadata": {
        "id": "J5KQTxo1fpIy"
      },
      "execution_count": null,
      "outputs": []
    },
    {
      "cell_type": "markdown",
      "metadata": {
        "id": "xHG3zyq0gI6J"
      },
      "source": [
        "If you only want to keep the new variables, use transmute()"
      ]
    },
    {
      "cell_type": "code",
      "execution_count": null,
      "metadata": {
        "id": "XXLV9HscgI6J"
      },
      "outputs": [],
      "source": [
        "flights %>% \n",
        "  transmute(speed = distance / air_time * 60) %>%\n",
        "  print()"
      ]
    },
    {
      "cell_type": "markdown",
      "source": [
        "#### **if_else with mutate**\n",
        "\n",
        "To create a new column which takes one value when a condition is TRUE and another value when it’s FALSE"
      ],
      "metadata": {
        "id": "ndYbBaVnhBLS"
      }
    },
    {
      "cell_type": "code",
      "source": [
        "flights %>% \n",
        "  mutate(\n",
        "    status = if_else(\n",
        "      is.na(arr_delay), \"cancelled\", \"scheduled\"),\n",
        "    .keep = \"used\"\n",
        "  ) %>%\n",
        "  print()"
      ],
      "metadata": {
        "id": "W7eEnVPlhK2O"
      },
      "execution_count": null,
      "outputs": []
    },
    {
      "cell_type": "markdown",
      "source": [
        "#### **case_when()**\n",
        "\n",
        "To use when there are more than two values."
      ],
      "metadata": {
        "id": "HcXyXRPdhGW5"
      }
    },
    {
      "cell_type": "code",
      "source": [
        "flights %>% \n",
        "  mutate(\n",
        "    status = case_when(\n",
        "      is.na(arr_delay)      ~ \"cancelled\",\n",
        "      arr_delay < -30       ~ \"very early\",\n",
        "      arr_delay < -15       ~ \"early\",\n",
        "      abs(arr_delay) <= 15  ~ \"on time\",\n",
        "      arr_delay > 15        ~ \"late\",\n",
        "      arr_delay > 60        ~ \"very late\",\n",
        "    ),\n",
        "    .keep = \"used\"\n",
        "  ) %>%\n",
        "  print()"
      ],
      "metadata": {
        "id": "LA_GtJIIiSWp"
      },
      "execution_count": null,
      "outputs": []
    },
    {
      "cell_type": "markdown",
      "source": [
        "### Exercise 3.d\n",
        "\n",
        "Create the new column type_of_flight which can be \"short-haul\", \"long-haul\", \"medium-haul\". Short-haul is a flight whose air_time lasts anywhere from 30 minutes to 3 hours. Medium-haul is defined by flights lasting between 3-6 hours. And lastly, long-haul flights are those that extend beyond 6 hours. Note that you should remove all the rows with NA."
      ],
      "metadata": {
        "id": "23JFcfhmi5ls"
      }
    },
    {
      "cell_type": "code",
      "source": [
        "#@title Answer to exercise 3.d\n",
        "\n",
        "flights %>% \n",
        "  filter(!is.na(air_time)) %>%\n",
        "  mutate(\n",
        "    type_of_flight = case_when(\n",
        "      air_time <  180       ~ \"short-haul\",\n",
        "      air_time <  360       ~ \"medium-haul\",\n",
        "      air_time >= 360       ~ \"long-haul\",\n",
        "    ),\n",
        "    .keep = \"used\"\n",
        "  ) %>% print()"
      ],
      "metadata": {
        "cellView": "form",
        "id": "fBfdn2fFjbce"
      },
      "execution_count": null,
      "outputs": []
    },
    {
      "cell_type": "markdown",
      "metadata": {
        "id": "VZ1ruYGzgI6J"
      },
      "source": [
        "\n",
        "## summarise()\n",
        "Generally used in concert with group_by() function. This is the most important grouped operation which collapses each group to a single row. Group summaries are seen in many applications."
      ]
    },
    {
      "cell_type": "markdown",
      "source": [
        "**count rows with n()**"
      ],
      "metadata": {
        "id": "ke4zqDHvulrM"
      }
    },
    {
      "cell_type": "code",
      "execution_count": null,
      "metadata": {
        "id": "BN-5OSAvgI6J"
      },
      "outputs": [],
      "source": [
        "# count number of records for each carrier\n",
        "flights %>% \n",
        "  count(carrier, sort = TRUE) %>%\n",
        "  print()\n",
        "\n",
        "# An equivalent way using group_by and summarize()\n",
        "flights %>%\n",
        "  group_by(carrier) %>% \n",
        "  summarize(\n",
        "    n = n(),\n",
        "  ) %>% \n",
        "  arrange(desc(n)) %>%\n",
        "  print()"
      ]
    },
    {
      "cell_type": "markdown",
      "source": [
        "**sum()**"
      ],
      "metadata": {
        "id": "VA94Xo3huyDU"
      }
    },
    {
      "cell_type": "code",
      "source": [
        "flights %>% \n",
        "  group_by(carrier, tailnum) %>% \n",
        "  summarize(miles = sum(distance)) %>% # count the miles traveled by each plane\n",
        "  print()"
      ],
      "metadata": {
        "id": "jCsM2VLIt8Gd"
      },
      "execution_count": null,
      "outputs": []
    },
    {
      "cell_type": "markdown",
      "source": [
        "**Minimum, maximum, and quantiles**\n",
        "\n",
        "min() and max() will give you the largest and smallest values. Another powerful tool is quantile() which is a generalization of the median: quantile(x, 0.25) will find the value of x that is greater than 25% of the values.\n",
        "\n",
        "Let's inspect the departure delay time for each day in flights dataset in more details."
      ],
      "metadata": {
        "id": "45fFpC01vklG"
      }
    },
    {
      "cell_type": "code",
      "execution_count": null,
      "metadata": {
        "id": "sVDUfVYPgI6J"
      },
      "outputs": [],
      "source": [
        "flights %>%\n",
        "  group_by(year, month, day) %>%\n",
        "  summarize(\n",
        "    max = max(dep_delay, na.rm = TRUE), # max departure delay\n",
        "    min = min(dep_delay, na.rm = TRUE), # max departure delay\n",
        "    q5 = quantile(dep_delay, 0.05, na.rm = TRUE), # 5 percentile value of departure delay\n",
        "    q95 = quantile(dep_delay, 0.95, na.rm = TRUE), # 95 percemntile of departure delay\n",
        "    .groups = \"drop\"\n",
        ") %>% print()"
      ]
    },
    {
      "cell_type": "markdown",
      "source": [
        "**Center and spread**\n",
        "\n",
        "We often use mean() to summarize the center of a vector of values. Because the mean is the sum divided by the count, it is sensitive to even just a few unusually high or low values. An alternative is to use the median(), which finds a value that lies in the “middle” of the vector, i.e. 50% of the values is above it and 50% are below it. \n",
        "\n",
        "Two commonly used summaries to measure the spread of data values are the standard deviation, sd(x), and the inter-quartile range, IQR(). IQR() is quantile(x, 0.75) - quantile(x, 0.25)"
      ],
      "metadata": {
        "id": "Oap3gYvZxViK"
      }
    },
    {
      "cell_type": "code",
      "source": [
        "# air time by each airplanes\n",
        "flights %>% \n",
        "  filter(!is.na(air_time)) %>%\n",
        "  group_by(carrier, tailnum) %>%\n",
        "  summarize(\n",
        "    distance_mean = mean(air_time), # mean\n",
        "    distance_median = median(air_time), # median\n",
        "    distance_iqr = IQR(air_time), # IQR distance\n",
        "    distance_sd = sd(air_time), # sd of distance\n",
        "    .groups = \"drop\"\n",
        "  ) %>%  print() "
      ],
      "metadata": {
        "id": "eqrgJ2F6x-hB"
      },
      "execution_count": null,
      "outputs": []
    },
    {
      "cell_type": "markdown",
      "source": [
        "### Exercise 3.e\n",
        "\n",
        "Which destinations show the greatest variation in air speed ? Air speed is defined as distance divided by air time (miles/hour)."
      ],
      "metadata": {
        "id": "k-cCg2B70c9g"
      }
    },
    {
      "cell_type": "code",
      "source": [
        "#@title Answer to exercise 3.e\n",
        "\n",
        "flights_var =  flights %>% \n",
        "    filter(!is.na(air_time) & !is.na(distance)) %>%\n",
        "    mutate(air_speed = distance / air_time * 60) %>% # create the new column air_speed with mutate()\n",
        "    group_by(dest) %>%\n",
        "    summarise(\n",
        "      speed_sd = sd(air_speed),\n",
        "      speed_iqr = IQR(air_speed)\n",
        "    )\n",
        "  \n",
        "flights_var %>% arrange(desc(speed_sd)) %>% head(3)\n",
        "flights_var %>% arrange(desc(speed_iqr)) %>% head(3)\n",
        "\n",
        "# OKC has the highest variation in term of air speed SD.\n",
        "# HOU has the highest variation in term of air speed IQR."
      ],
      "metadata": {
        "cellView": "form",
        "id": "JLdVgHhT0yWy"
      },
      "execution_count": null,
      "outputs": []
    }
  ],
  "metadata": {
    "kernelspec": {
      "display_name": "R",
      "language": "R",
      "name": "ir"
    },
    "language_info": {
      "codemirror_mode": "r",
      "file_extension": ".r",
      "mimetype": "text/x-r-source",
      "name": "R",
      "pygments_lexer": "r",
      "version": "4.1.1"
    },
    "colab": {
      "provenance": []
    }
  },
  "nbformat": 4,
  "nbformat_minor": 0
}