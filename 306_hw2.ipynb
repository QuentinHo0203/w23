{
  "cells": [
    {
      "cell_type": "markdown",
      "metadata": {
        "id": "view-in-github",
        "colab_type": "text"
      },
      "source": [
        "<a href=\"https://colab.research.google.com/github/QuentinHo0203/w23/blob/main/306_hw2.ipynb\" target=\"_parent\"><img src=\"https://colab.research.google.com/assets/colab-badge.svg\" alt=\"Open In Colab\"/></a>"
      ]
    },
    {
      "cell_type": "code",
      "execution_count": 38,
      "metadata": {
        "id": "5f15XUAVcKuA"
      },
      "outputs": [],
      "source": [
        "library(tidyverse)\n",
        "options(repr.plot.width=5, repr.plot.height=4)\n",
        "library(ggplot2)"
      ]
    },
    {
      "cell_type": "markdown",
      "metadata": {
        "id": "Blvd9lgDcL-M"
      },
      "source": [
        "# **STATS 306 Homework 2**"
      ]
    },
    {
      "cell_type": "markdown",
      "metadata": {
        "id": "dA6UZl4OcUgz"
      },
      "source": [
        "### Problem 1: Registered pets in Seattle, WA: Warm Up (1 point)\n",
        "\n",
        "In this problem, we will explore the *Seattle Pets* data set, which contains information about registered pets in Seattle, WA, between 2003 and 2018. The data set can be loaded by running the code below."
      ]
    },
    {
      "cell_type": "code",
      "execution_count": 6,
      "metadata": {
        "id": "p8QYXfLjLdyc"
      },
      "outputs": [],
      "source": [
        "data <- read.csv(\n",
        "    \"https://raw.githubusercontent.com/rfordatascience/tidytuesday/master/data/2019/2019-03-26/seattle_pets.csv\"\n",
        ")"
      ]
    },
    {
      "cell_type": "markdown",
      "metadata": {
        "id": "G5n3BXY-c_wA"
      },
      "source": [
        "**(a)** Print only the first 3 rows of the data set. *(0.25 points)*"
      ]
    },
    {
      "cell_type": "code",
      "execution_count": 7,
      "metadata": {
        "colab": {
          "base_uri": "https://localhost:8080/",
          "height": 192
        },
        "id": "vwfJ-uulH8Ib",
        "outputId": "b29f1b64-4dac-43dc-e467-131c84f8d85c"
      },
      "outputs": [
        {
          "output_type": "display_data",
          "data": {
            "text/html": [
              "<table class=\"dataframe\">\n",
              "<caption>A data.frame: 3 × 7</caption>\n",
              "<thead>\n",
              "\t<tr><th></th><th scope=col>license_issue_date</th><th scope=col>license_number</th><th scope=col>animals_name</th><th scope=col>species</th><th scope=col>primary_breed</th><th scope=col>secondary_breed</th><th scope=col>zip_code</th></tr>\n",
              "\t<tr><th></th><th scope=col>&lt;chr&gt;</th><th scope=col>&lt;chr&gt;</th><th scope=col>&lt;chr&gt;</th><th scope=col>&lt;chr&gt;</th><th scope=col>&lt;chr&gt;</th><th scope=col>&lt;chr&gt;</th><th scope=col>&lt;chr&gt;</th></tr>\n",
              "</thead>\n",
              "<tbody>\n",
              "\t<tr><th scope=row>1</th><td>November 16 2018</td><td>8002756</td><td>Wall-E</td><td>Dog</td><td>Mixed Breed, Medium (up to 44 lbs fully grown)</td><td>Mix                            </td><td>98108</td></tr>\n",
              "\t<tr><th scope=row>2</th><td>November 11 2018</td><td>S124529</td><td>Andre </td><td>Dog</td><td>Terrier, Jack Russell                         </td><td>Dachshund, Standard Wire Haired</td><td>98117</td></tr>\n",
              "\t<tr><th scope=row>3</th><td>November 21 2018</td><td>903793 </td><td>Mac   </td><td>Dog</td><td>Retriever, Labrador                           </td><td>NA                             </td><td>98136</td></tr>\n",
              "</tbody>\n",
              "</table>\n"
            ],
            "text/markdown": "\nA data.frame: 3 × 7\n\n| <!--/--> | license_issue_date &lt;chr&gt; | license_number &lt;chr&gt; | animals_name &lt;chr&gt; | species &lt;chr&gt; | primary_breed &lt;chr&gt; | secondary_breed &lt;chr&gt; | zip_code &lt;chr&gt; |\n|---|---|---|---|---|---|---|---|\n| 1 | November 16 2018 | 8002756 | Wall-E | Dog | Mixed Breed, Medium (up to 44 lbs fully grown) | Mix                             | 98108 |\n| 2 | November 11 2018 | S124529 | Andre  | Dog | Terrier, Jack Russell                          | Dachshund, Standard Wire Haired | 98117 |\n| 3 | November 21 2018 | 903793  | Mac    | Dog | Retriever, Labrador                            | NA                              | 98136 |\n\n",
            "text/latex": "A data.frame: 3 × 7\n\\begin{tabular}{r|lllllll}\n  & license\\_issue\\_date & license\\_number & animals\\_name & species & primary\\_breed & secondary\\_breed & zip\\_code\\\\\n  & <chr> & <chr> & <chr> & <chr> & <chr> & <chr> & <chr>\\\\\n\\hline\n\t1 & November 16 2018 & 8002756 & Wall-E & Dog & Mixed Breed, Medium (up to 44 lbs fully grown) & Mix                             & 98108\\\\\n\t2 & November 11 2018 & S124529 & Andre  & Dog & Terrier, Jack Russell                          & Dachshund, Standard Wire Haired & 98117\\\\\n\t3 & November 21 2018 & 903793  & Mac    & Dog & Retriever, Labrador                            & NA                              & 98136\\\\\n\\end{tabular}\n",
            "text/plain": [
              "  license_issue_date license_number animals_name species\n",
              "1 November 16 2018   8002756        Wall-E       Dog    \n",
              "2 November 11 2018   S124529        Andre        Dog    \n",
              "3 November 21 2018   903793         Mac          Dog    \n",
              "  primary_breed                                 \n",
              "1 Mixed Breed, Medium (up to 44 lbs fully grown)\n",
              "2 Terrier, Jack Russell                         \n",
              "3 Retriever, Labrador                           \n",
              "  secondary_breed                 zip_code\n",
              "1 Mix                             98108   \n",
              "2 Dachshund, Standard Wire Haired 98117   \n",
              "3 NA                              98136   "
            ]
          },
          "metadata": {}
        }
      ],
      "source": [
        "# YOUR SOLUTION HERE\n",
        "head(data,3)"
      ]
    },
    {
      "cell_type": "markdown",
      "metadata": {
        "id": "7gEFjnPGeCL2"
      },
      "source": [
        "**(b)** Create a data set that contains all columns of the original data set except `secondary_breed`. Then, drop rows with any missing values. Assign the resulting data set to the variable `data_nona`. *(0.25 points)*"
      ]
    },
    {
      "cell_type": "code",
      "execution_count": 94,
      "metadata": {
        "id": "bAefCB1DKBvB",
        "scrolled": true,
        "colab": {
          "base_uri": "https://localhost:8080/",
          "height": 1000
        },
        "outputId": "86c582e0-8f32-4897-e23e-6a58bd352283"
      },
      "outputs": [
        {
          "output_type": "display_data",
          "data": {
            "text/html": [
              "<table class=\"dataframe\">\n",
              "<caption>A data.frame: 51647 × 6</caption>\n",
              "<thead>\n",
              "\t<tr><th></th><th scope=col>license_issue_date</th><th scope=col>license_number</th><th scope=col>animals_name</th><th scope=col>species</th><th scope=col>primary_breed</th><th scope=col>zip_code</th></tr>\n",
              "\t<tr><th></th><th scope=col>&lt;chr&gt;</th><th scope=col>&lt;chr&gt;</th><th scope=col>&lt;chr&gt;</th><th scope=col>&lt;chr&gt;</th><th scope=col>&lt;chr&gt;</th><th scope=col>&lt;chr&gt;</th></tr>\n",
              "</thead>\n",
              "<tbody>\n",
              "\t<tr><th scope=row>1</th><td>November 16 2018</td><td>8002756</td><td>Wall-E    </td><td>Dog</td><td>Mixed Breed, Medium (up to 44 lbs fully grown)</td><td>98108</td></tr>\n",
              "\t<tr><th scope=row>2</th><td>November 11 2018</td><td>S124529</td><td>Andre     </td><td>Dog</td><td>Terrier, Jack Russell                         </td><td>98117</td></tr>\n",
              "\t<tr><th scope=row>3</th><td>November 21 2018</td><td>903793 </td><td>Mac       </td><td>Dog</td><td>Retriever, Labrador                           </td><td>98136</td></tr>\n",
              "\t<tr><th scope=row>4</th><td>November 23 2018</td><td>824666 </td><td>Melb      </td><td>Cat</td><td>Domestic Shorthair                            </td><td>98117</td></tr>\n",
              "\t<tr><th scope=row>5</th><td>December 30 2018</td><td>S119138</td><td>Gingersnap</td><td>Cat</td><td>Domestic Shorthair                            </td><td>98144</td></tr>\n",
              "\t<tr><th scope=row>6</th><td>December 16 2018</td><td>S138529</td><td>Cody      </td><td>Dog</td><td>Retriever, Labrador                           </td><td>98103</td></tr>\n",
              "\t<tr><th scope=row>7</th><td>October 04 2017 </td><td>580652 </td><td>Millie    </td><td>Dog</td><td>Terrier, Boston                               </td><td>98115</td></tr>\n",
              "\t<tr><th scope=row>8</th><td>August 09 2018  </td><td>S142558</td><td>Sebastian </td><td>Cat</td><td>Domestic Shorthair                            </td><td>98122</td></tr>\n",
              "\t<tr><th scope=row>9</th><td>August 20 2018  </td><td>S142546</td><td>Madeline  </td><td>Cat</td><td>Domestic Shorthair                            </td><td>98105</td></tr>\n",
              "\t<tr><th scope=row>10</th><td>December 08 2018</td><td>S123830</td><td>Cleo      </td><td>Cat</td><td>Domestic Shorthair                            </td><td>98199</td></tr>\n",
              "\t<tr><th scope=row>11</th><td>December 23 2018</td><td>961052 </td><td>Sabre     </td><td>Dog</td><td>Terrier                                       </td><td>98126</td></tr>\n",
              "\t<tr><th scope=row>12</th><td>December 07 2018</td><td>S125461</td><td>Thomas    </td><td>Dog</td><td>Chihuahua, Short Coat                         </td><td>98177</td></tr>\n",
              "\t<tr><th scope=row>13</th><td>October 20 2018 </td><td>S149153</td><td>Glitch    </td><td>Cat</td><td>Siamese                                       </td><td>98122</td></tr>\n",
              "\t<tr><th scope=row>14</th><td>November 07 2018</td><td>8002543</td><td>Lulu      </td><td>Dog</td><td>Vizsla, Smooth Haired                         </td><td>98105</td></tr>\n",
              "\t<tr><th scope=row>15</th><td>November 24 2018</td><td>817137 </td><td>Candy     </td><td>Cat</td><td>Domestic Shorthair                            </td><td>98126</td></tr>\n",
              "\t<tr><th scope=row>16</th><td>December 15 2018</td><td>S138838</td><td>Milo      </td><td>Dog</td><td>Boxer                                         </td><td>98109</td></tr>\n",
              "\t<tr><th scope=row>17</th><td>December 07 2018</td><td>895346 </td><td>Cinnamon  </td><td>Cat</td><td>Domestic Shorthair                            </td><td>98144</td></tr>\n",
              "\t<tr><th scope=row>18</th><td>November 27 2018</td><td>S123980</td><td>Anubis    </td><td>Dog</td><td>Poodle, Standard                              </td><td>98112</td></tr>\n",
              "\t<tr><th scope=row>19</th><td>October 31 2018 </td><td>S123360</td><td>Sydney2   </td><td>Cat</td><td>Domestic Medium Hair                          </td><td>98101</td></tr>\n",
              "\t<tr><th scope=row>20</th><td>October 25 2018 </td><td>830506 </td><td>Skylar    </td><td>Dog</td><td>Border Collie                                 </td><td>98144</td></tr>\n",
              "\t<tr><th scope=row>21</th><td>October 23 2018 </td><td>S137719</td><td>Cleo      </td><td>Dog</td><td>Bernese Mountain Dog                          </td><td>98107</td></tr>\n",
              "\t<tr><th scope=row>22</th><td>November 07 2018</td><td>905090 </td><td>Petey     </td><td>Dog</td><td>Pomeranian                                    </td><td>98119</td></tr>\n",
              "\t<tr><th scope=row>23</th><td>December 24 2018</td><td>S152290</td><td>Kaia      </td><td>Dog</td><td>Karelian Bear Dog                             </td><td>98117</td></tr>\n",
              "\t<tr><th scope=row>24</th><td>October 23 2018 </td><td>S122244</td><td>Calvin    </td><td>Cat</td><td>American Shorthair                            </td><td>98119</td></tr>\n",
              "\t<tr><th scope=row>25</th><td>December 27 2018</td><td>8004142</td><td>Maya      </td><td>Dog</td><td>Chihuahua, Short Coat                         </td><td>98126</td></tr>\n",
              "\t<tr><th scope=row>26</th><td>November 15 2018</td><td>8002730</td><td>Mochi     </td><td>Cat</td><td>Domestic Medium Hair                          </td><td>98105</td></tr>\n",
              "\t<tr><th scope=row>27</th><td>November 27 2018</td><td>S125276</td><td>dmh       </td><td>Cat</td><td>Domestic Medium Hair                          </td><td>98117</td></tr>\n",
              "\t<tr><th scope=row>28</th><td>December 20 2018</td><td>952291 </td><td>Justin    </td><td>Cat</td><td>Domestic Medium Hair                          </td><td>98122</td></tr>\n",
              "\t<tr><th scope=row>29</th><td>November 18 2018</td><td>835221 </td><td>Shirley   </td><td>Dog</td><td>Australian Shepherd                           </td><td>98144</td></tr>\n",
              "\t<tr><th scope=row>30</th><td>October 18 2018 </td><td>S101544</td><td>Diesel    </td><td>Dog</td><td>Shepherd                                      </td><td>98118</td></tr>\n",
              "\t<tr><th scope=row>⋮</th><td>⋮</td><td>⋮</td><td>⋮</td><td>⋮</td><td>⋮</td><td>⋮</td></tr>\n",
              "\t<tr><th scope=row>52490</th><td>December 23 2016 </td><td>S125539</td><td>Cake           </td><td>Dog</td><td>Australian Shepherd, Miniature </td><td>98117</td></tr>\n",
              "\t<tr><th scope=row>52491</th><td>November 22 2017 </td><td>S138308</td><td>Margie         </td><td>Dog</td><td>Coton de Tulear                </td><td>98112</td></tr>\n",
              "\t<tr><th scope=row>52492</th><td>October 09 2017  </td><td>S105374</td><td>Kristy         </td><td>Cat</td><td>American Shorthair             </td><td>98117</td></tr>\n",
              "\t<tr><th scope=row>52493</th><td>April 24 2018    </td><td>S104465</td><td>Tumbler        </td><td>Cat</td><td>Domestic Longhair              </td><td>98117</td></tr>\n",
              "\t<tr><th scope=row>52494</th><td>July 05 2018     </td><td>731342 </td><td>Lily           </td><td>Cat</td><td>Siamese                        </td><td>98122</td></tr>\n",
              "\t<tr><th scope=row>52495</th><td>September 13 2017</td><td>S135798</td><td>Ruby           </td><td>Dog</td><td>Retriever, Labrador            </td><td>98103</td></tr>\n",
              "\t<tr><th scope=row>52496</th><td>July 20 2018     </td><td>282995 </td><td>Violet         </td><td>Dog</td><td>Chihuahua, Short Coat          </td><td>98199</td></tr>\n",
              "\t<tr><th scope=row>52497</th><td>July 14 2018     </td><td>S144391</td><td>Thursday       </td><td>Cat</td><td>Domestic Medium Hair           </td><td>98103</td></tr>\n",
              "\t<tr><th scope=row>52498</th><td>December 22 2017 </td><td>949309 </td><td>Homie G        </td><td>Cat</td><td>Domestic Medium Hair           </td><td>98133</td></tr>\n",
              "\t<tr><th scope=row>52499</th><td>October 12 2017  </td><td>S104680</td><td>Poppy Valentine</td><td>Dog</td><td>Retriever, Golden              </td><td>98119</td></tr>\n",
              "\t<tr><th scope=row>52500</th><td>June 01 2018     </td><td>212116 </td><td>Mickey         </td><td>Dog</td><td>Australian Shepherd            </td><td>98118</td></tr>\n",
              "\t<tr><th scope=row>52501</th><td>December 28 2016 </td><td>S125749</td><td>Marie          </td><td>Cat</td><td>Domestic Shorthair             </td><td>98115</td></tr>\n",
              "\t<tr><th scope=row>52502</th><td>August 22 2018   </td><td>8000275</td><td>Elio           </td><td>Dog</td><td>Terrier, Staffordshire Bull    </td><td>98104</td></tr>\n",
              "\t<tr><th scope=row>52503</th><td>July 10 2018     </td><td>S145780</td><td>Sage           </td><td>Dog</td><td>Poodle, Standard               </td><td>98118</td></tr>\n",
              "\t<tr><th scope=row>52504</th><td>July 24 2018     </td><td>77495  </td><td>Riley          </td><td>Cat</td><td>Domestic Shorthair             </td><td>98103</td></tr>\n",
              "\t<tr><th scope=row>52505</th><td>December 14 2017 </td><td>956225 </td><td>Nya            </td><td>Dog</td><td>Terrier, Yorkshire             </td><td>98122</td></tr>\n",
              "\t<tr><th scope=row>52506</th><td>May 15 2018      </td><td>S143729</td><td>Jones          </td><td>Dog</td><td>Retriever, Flat-Coated         </td><td>98112</td></tr>\n",
              "\t<tr><th scope=row>52507</th><td>August 24 2017   </td><td>S133481</td><td>Buddy 2        </td><td>Dog</td><td>Retriever, Labrador            </td><td>98177</td></tr>\n",
              "\t<tr><th scope=row>52508</th><td>October 18 2016  </td><td>831383 </td><td>Magic          </td><td>Dog</td><td>Doberman Pinscher              </td><td>98116</td></tr>\n",
              "\t<tr><th scope=row>52509</th><td>October 09 2018  </td><td>S122253</td><td>Dory           </td><td>Dog</td><td>Retriever, Labrador            </td><td>98177</td></tr>\n",
              "\t<tr><th scope=row>52510</th><td>October 09 2018  </td><td>8001684</td><td>Hank           </td><td>Dog</td><td>Australian Shepherd            </td><td>98122</td></tr>\n",
              "\t<tr><th scope=row>52511</th><td>July 05 2018     </td><td>S116195</td><td>Oliver         </td><td>Dog</td><td>Chihuahua, Short Coat          </td><td>98119</td></tr>\n",
              "\t<tr><th scope=row>52512</th><td>October 01 2018  </td><td>8001462</td><td>Bo             </td><td>Dog</td><td>Terrier, Yorkshire             </td><td>98116</td></tr>\n",
              "\t<tr><th scope=row>52513</th><td>August 03 2017   </td><td>29059  </td><td>Sophia         </td><td>Cat</td><td>Siamese                        </td><td>98103</td></tr>\n",
              "\t<tr><th scope=row>52514</th><td>June 26 2018     </td><td>353939 </td><td>Jake           </td><td>Dog</td><td>Retriever, Labrador            </td><td>98122</td></tr>\n",
              "\t<tr><th scope=row>52515</th><td>July 26 2017     </td><td>204383 </td><td>Molly          </td><td>Cat</td><td>Domestic Longhair              </td><td>98125</td></tr>\n",
              "\t<tr><th scope=row>52516</th><td>March 28 2018    </td><td>S140831</td><td>Onion          </td><td>Cat</td><td>Domestic Shorthair             </td><td>98177</td></tr>\n",
              "\t<tr><th scope=row>52517</th><td>September 15 2018</td><td>8000931</td><td>Lego           </td><td>Dog</td><td>Pomeranian                     </td><td>98107</td></tr>\n",
              "\t<tr><th scope=row>52518</th><td>September 01 2017</td><td>S135347</td><td>Iris           </td><td>Dog</td><td>Terrier, American Staffordshire</td><td>98115</td></tr>\n",
              "\t<tr><th scope=row>52519</th><td>December 20 2016 </td><td>959610 </td><td>Bailey         </td><td>Dog</td><td>Retriever, Labrador            </td><td>98116</td></tr>\n",
              "</tbody>\n",
              "</table>\n"
            ],
            "text/markdown": "\nA data.frame: 51647 × 6\n\n| <!--/--> | license_issue_date &lt;chr&gt; | license_number &lt;chr&gt; | animals_name &lt;chr&gt; | species &lt;chr&gt; | primary_breed &lt;chr&gt; | zip_code &lt;chr&gt; |\n|---|---|---|---|---|---|---|\n| 1 | November 16 2018 | 8002756 | Wall-E     | Dog | Mixed Breed, Medium (up to 44 lbs fully grown) | 98108 |\n| 2 | November 11 2018 | S124529 | Andre      | Dog | Terrier, Jack Russell                          | 98117 |\n| 3 | November 21 2018 | 903793  | Mac        | Dog | Retriever, Labrador                            | 98136 |\n| 4 | November 23 2018 | 824666  | Melb       | Cat | Domestic Shorthair                             | 98117 |\n| 5 | December 30 2018 | S119138 | Gingersnap | Cat | Domestic Shorthair                             | 98144 |\n| 6 | December 16 2018 | S138529 | Cody       | Dog | Retriever, Labrador                            | 98103 |\n| 7 | October 04 2017  | 580652  | Millie     | Dog | Terrier, Boston                                | 98115 |\n| 8 | August 09 2018   | S142558 | Sebastian  | Cat | Domestic Shorthair                             | 98122 |\n| 9 | August 20 2018   | S142546 | Madeline   | Cat | Domestic Shorthair                             | 98105 |\n| 10 | December 08 2018 | S123830 | Cleo       | Cat | Domestic Shorthair                             | 98199 |\n| 11 | December 23 2018 | 961052  | Sabre      | Dog | Terrier                                        | 98126 |\n| 12 | December 07 2018 | S125461 | Thomas     | Dog | Chihuahua, Short Coat                          | 98177 |\n| 13 | October 20 2018  | S149153 | Glitch     | Cat | Siamese                                        | 98122 |\n| 14 | November 07 2018 | 8002543 | Lulu       | Dog | Vizsla, Smooth Haired                          | 98105 |\n| 15 | November 24 2018 | 817137  | Candy      | Cat | Domestic Shorthair                             | 98126 |\n| 16 | December 15 2018 | S138838 | Milo       | Dog | Boxer                                          | 98109 |\n| 17 | December 07 2018 | 895346  | Cinnamon   | Cat | Domestic Shorthair                             | 98144 |\n| 18 | November 27 2018 | S123980 | Anubis     | Dog | Poodle, Standard                               | 98112 |\n| 19 | October 31 2018  | S123360 | Sydney2    | Cat | Domestic Medium Hair                           | 98101 |\n| 20 | October 25 2018  | 830506  | Skylar     | Dog | Border Collie                                  | 98144 |\n| 21 | October 23 2018  | S137719 | Cleo       | Dog | Bernese Mountain Dog                           | 98107 |\n| 22 | November 07 2018 | 905090  | Petey      | Dog | Pomeranian                                     | 98119 |\n| 23 | December 24 2018 | S152290 | Kaia       | Dog | Karelian Bear Dog                              | 98117 |\n| 24 | October 23 2018  | S122244 | Calvin     | Cat | American Shorthair                             | 98119 |\n| 25 | December 27 2018 | 8004142 | Maya       | Dog | Chihuahua, Short Coat                          | 98126 |\n| 26 | November 15 2018 | 8002730 | Mochi      | Cat | Domestic Medium Hair                           | 98105 |\n| 27 | November 27 2018 | S125276 | dmh        | Cat | Domestic Medium Hair                           | 98117 |\n| 28 | December 20 2018 | 952291  | Justin     | Cat | Domestic Medium Hair                           | 98122 |\n| 29 | November 18 2018 | 835221  | Shirley    | Dog | Australian Shepherd                            | 98144 |\n| 30 | October 18 2018  | S101544 | Diesel     | Dog | Shepherd                                       | 98118 |\n| ⋮ | ⋮ | ⋮ | ⋮ | ⋮ | ⋮ | ⋮ |\n| 52490 | December 23 2016  | S125539 | Cake            | Dog | Australian Shepherd, Miniature  | 98117 |\n| 52491 | November 22 2017  | S138308 | Margie          | Dog | Coton de Tulear                 | 98112 |\n| 52492 | October 09 2017   | S105374 | Kristy          | Cat | American Shorthair              | 98117 |\n| 52493 | April 24 2018     | S104465 | Tumbler         | Cat | Domestic Longhair               | 98117 |\n| 52494 | July 05 2018      | 731342  | Lily            | Cat | Siamese                         | 98122 |\n| 52495 | September 13 2017 | S135798 | Ruby            | Dog | Retriever, Labrador             | 98103 |\n| 52496 | July 20 2018      | 282995  | Violet          | Dog | Chihuahua, Short Coat           | 98199 |\n| 52497 | July 14 2018      | S144391 | Thursday        | Cat | Domestic Medium Hair            | 98103 |\n| 52498 | December 22 2017  | 949309  | Homie G         | Cat | Domestic Medium Hair            | 98133 |\n| 52499 | October 12 2017   | S104680 | Poppy Valentine | Dog | Retriever, Golden               | 98119 |\n| 52500 | June 01 2018      | 212116  | Mickey          | Dog | Australian Shepherd             | 98118 |\n| 52501 | December 28 2016  | S125749 | Marie           | Cat | Domestic Shorthair              | 98115 |\n| 52502 | August 22 2018    | 8000275 | Elio            | Dog | Terrier, Staffordshire Bull     | 98104 |\n| 52503 | July 10 2018      | S145780 | Sage            | Dog | Poodle, Standard                | 98118 |\n| 52504 | July 24 2018      | 77495   | Riley           | Cat | Domestic Shorthair              | 98103 |\n| 52505 | December 14 2017  | 956225  | Nya             | Dog | Terrier, Yorkshire              | 98122 |\n| 52506 | May 15 2018       | S143729 | Jones           | Dog | Retriever, Flat-Coated          | 98112 |\n| 52507 | August 24 2017    | S133481 | Buddy 2         | Dog | Retriever, Labrador             | 98177 |\n| 52508 | October 18 2016   | 831383  | Magic           | Dog | Doberman Pinscher               | 98116 |\n| 52509 | October 09 2018   | S122253 | Dory            | Dog | Retriever, Labrador             | 98177 |\n| 52510 | October 09 2018   | 8001684 | Hank            | Dog | Australian Shepherd             | 98122 |\n| 52511 | July 05 2018      | S116195 | Oliver          | Dog | Chihuahua, Short Coat           | 98119 |\n| 52512 | October 01 2018   | 8001462 | Bo              | Dog | Terrier, Yorkshire              | 98116 |\n| 52513 | August 03 2017    | 29059   | Sophia          | Cat | Siamese                         | 98103 |\n| 52514 | June 26 2018      | 353939  | Jake            | Dog | Retriever, Labrador             | 98122 |\n| 52515 | July 26 2017      | 204383  | Molly           | Cat | Domestic Longhair               | 98125 |\n| 52516 | March 28 2018     | S140831 | Onion           | Cat | Domestic Shorthair              | 98177 |\n| 52517 | September 15 2018 | 8000931 | Lego            | Dog | Pomeranian                      | 98107 |\n| 52518 | September 01 2017 | S135347 | Iris            | Dog | Terrier, American Staffordshire | 98115 |\n| 52519 | December 20 2016  | 959610  | Bailey          | Dog | Retriever, Labrador             | 98116 |\n\n",
            "text/latex": "A data.frame: 51647 × 6\n\\begin{tabular}{r|llllll}\n  & license\\_issue\\_date & license\\_number & animals\\_name & species & primary\\_breed & zip\\_code\\\\\n  & <chr> & <chr> & <chr> & <chr> & <chr> & <chr>\\\\\n\\hline\n\t1 & November 16 2018 & 8002756 & Wall-E     & Dog & Mixed Breed, Medium (up to 44 lbs fully grown) & 98108\\\\\n\t2 & November 11 2018 & S124529 & Andre      & Dog & Terrier, Jack Russell                          & 98117\\\\\n\t3 & November 21 2018 & 903793  & Mac        & Dog & Retriever, Labrador                            & 98136\\\\\n\t4 & November 23 2018 & 824666  & Melb       & Cat & Domestic Shorthair                             & 98117\\\\\n\t5 & December 30 2018 & S119138 & Gingersnap & Cat & Domestic Shorthair                             & 98144\\\\\n\t6 & December 16 2018 & S138529 & Cody       & Dog & Retriever, Labrador                            & 98103\\\\\n\t7 & October 04 2017  & 580652  & Millie     & Dog & Terrier, Boston                                & 98115\\\\\n\t8 & August 09 2018   & S142558 & Sebastian  & Cat & Domestic Shorthair                             & 98122\\\\\n\t9 & August 20 2018   & S142546 & Madeline   & Cat & Domestic Shorthair                             & 98105\\\\\n\t10 & December 08 2018 & S123830 & Cleo       & Cat & Domestic Shorthair                             & 98199\\\\\n\t11 & December 23 2018 & 961052  & Sabre      & Dog & Terrier                                        & 98126\\\\\n\t12 & December 07 2018 & S125461 & Thomas     & Dog & Chihuahua, Short Coat                          & 98177\\\\\n\t13 & October 20 2018  & S149153 & Glitch     & Cat & Siamese                                        & 98122\\\\\n\t14 & November 07 2018 & 8002543 & Lulu       & Dog & Vizsla, Smooth Haired                          & 98105\\\\\n\t15 & November 24 2018 & 817137  & Candy      & Cat & Domestic Shorthair                             & 98126\\\\\n\t16 & December 15 2018 & S138838 & Milo       & Dog & Boxer                                          & 98109\\\\\n\t17 & December 07 2018 & 895346  & Cinnamon   & Cat & Domestic Shorthair                             & 98144\\\\\n\t18 & November 27 2018 & S123980 & Anubis     & Dog & Poodle, Standard                               & 98112\\\\\n\t19 & October 31 2018  & S123360 & Sydney2    & Cat & Domestic Medium Hair                           & 98101\\\\\n\t20 & October 25 2018  & 830506  & Skylar     & Dog & Border Collie                                  & 98144\\\\\n\t21 & October 23 2018  & S137719 & Cleo       & Dog & Bernese Mountain Dog                           & 98107\\\\\n\t22 & November 07 2018 & 905090  & Petey      & Dog & Pomeranian                                     & 98119\\\\\n\t23 & December 24 2018 & S152290 & Kaia       & Dog & Karelian Bear Dog                              & 98117\\\\\n\t24 & October 23 2018  & S122244 & Calvin     & Cat & American Shorthair                             & 98119\\\\\n\t25 & December 27 2018 & 8004142 & Maya       & Dog & Chihuahua, Short Coat                          & 98126\\\\\n\t26 & November 15 2018 & 8002730 & Mochi      & Cat & Domestic Medium Hair                           & 98105\\\\\n\t27 & November 27 2018 & S125276 & dmh        & Cat & Domestic Medium Hair                           & 98117\\\\\n\t28 & December 20 2018 & 952291  & Justin     & Cat & Domestic Medium Hair                           & 98122\\\\\n\t29 & November 18 2018 & 835221  & Shirley    & Dog & Australian Shepherd                            & 98144\\\\\n\t30 & October 18 2018  & S101544 & Diesel     & Dog & Shepherd                                       & 98118\\\\\n\t⋮ & ⋮ & ⋮ & ⋮ & ⋮ & ⋮ & ⋮\\\\\n\t52490 & December 23 2016  & S125539 & Cake            & Dog & Australian Shepherd, Miniature  & 98117\\\\\n\t52491 & November 22 2017  & S138308 & Margie          & Dog & Coton de Tulear                 & 98112\\\\\n\t52492 & October 09 2017   & S105374 & Kristy          & Cat & American Shorthair              & 98117\\\\\n\t52493 & April 24 2018     & S104465 & Tumbler         & Cat & Domestic Longhair               & 98117\\\\\n\t52494 & July 05 2018      & 731342  & Lily            & Cat & Siamese                         & 98122\\\\\n\t52495 & September 13 2017 & S135798 & Ruby            & Dog & Retriever, Labrador             & 98103\\\\\n\t52496 & July 20 2018      & 282995  & Violet          & Dog & Chihuahua, Short Coat           & 98199\\\\\n\t52497 & July 14 2018      & S144391 & Thursday        & Cat & Domestic Medium Hair            & 98103\\\\\n\t52498 & December 22 2017  & 949309  & Homie G         & Cat & Domestic Medium Hair            & 98133\\\\\n\t52499 & October 12 2017   & S104680 & Poppy Valentine & Dog & Retriever, Golden               & 98119\\\\\n\t52500 & June 01 2018      & 212116  & Mickey          & Dog & Australian Shepherd             & 98118\\\\\n\t52501 & December 28 2016  & S125749 & Marie           & Cat & Domestic Shorthair              & 98115\\\\\n\t52502 & August 22 2018    & 8000275 & Elio            & Dog & Terrier, Staffordshire Bull     & 98104\\\\\n\t52503 & July 10 2018      & S145780 & Sage            & Dog & Poodle, Standard                & 98118\\\\\n\t52504 & July 24 2018      & 77495   & Riley           & Cat & Domestic Shorthair              & 98103\\\\\n\t52505 & December 14 2017  & 956225  & Nya             & Dog & Terrier, Yorkshire              & 98122\\\\\n\t52506 & May 15 2018       & S143729 & Jones           & Dog & Retriever, Flat-Coated          & 98112\\\\\n\t52507 & August 24 2017    & S133481 & Buddy 2         & Dog & Retriever, Labrador             & 98177\\\\\n\t52508 & October 18 2016   & 831383  & Magic           & Dog & Doberman Pinscher               & 98116\\\\\n\t52509 & October 09 2018   & S122253 & Dory            & Dog & Retriever, Labrador             & 98177\\\\\n\t52510 & October 09 2018   & 8001684 & Hank            & Dog & Australian Shepherd             & 98122\\\\\n\t52511 & July 05 2018      & S116195 & Oliver          & Dog & Chihuahua, Short Coat           & 98119\\\\\n\t52512 & October 01 2018   & 8001462 & Bo              & Dog & Terrier, Yorkshire              & 98116\\\\\n\t52513 & August 03 2017    & 29059   & Sophia          & Cat & Siamese                         & 98103\\\\\n\t52514 & June 26 2018      & 353939  & Jake            & Dog & Retriever, Labrador             & 98122\\\\\n\t52515 & July 26 2017      & 204383  & Molly           & Cat & Domestic Longhair               & 98125\\\\\n\t52516 & March 28 2018     & S140831 & Onion           & Cat & Domestic Shorthair              & 98177\\\\\n\t52517 & September 15 2018 & 8000931 & Lego            & Dog & Pomeranian                      & 98107\\\\\n\t52518 & September 01 2017 & S135347 & Iris            & Dog & Terrier, American Staffordshire & 98115\\\\\n\t52519 & December 20 2016  & 959610  & Bailey          & Dog & Retriever, Labrador             & 98116\\\\\n\\end{tabular}\n",
            "text/plain": [
              "      license_issue_date license_number animals_name    species\n",
              "1     November 16 2018   8002756        Wall-E          Dog    \n",
              "2     November 11 2018   S124529        Andre           Dog    \n",
              "3     November 21 2018   903793         Mac             Dog    \n",
              "4     November 23 2018   824666         Melb            Cat    \n",
              "5     December 30 2018   S119138        Gingersnap      Cat    \n",
              "6     December 16 2018   S138529        Cody            Dog    \n",
              "7     October 04 2017    580652         Millie          Dog    \n",
              "8     August 09 2018     S142558        Sebastian       Cat    \n",
              "9     August 20 2018     S142546        Madeline        Cat    \n",
              "10    December 08 2018   S123830        Cleo            Cat    \n",
              "11    December 23 2018   961052         Sabre           Dog    \n",
              "12    December 07 2018   S125461        Thomas          Dog    \n",
              "13    October 20 2018    S149153        Glitch          Cat    \n",
              "14    November 07 2018   8002543        Lulu            Dog    \n",
              "15    November 24 2018   817137         Candy           Cat    \n",
              "16    December 15 2018   S138838        Milo            Dog    \n",
              "17    December 07 2018   895346         Cinnamon        Cat    \n",
              "18    November 27 2018   S123980        Anubis          Dog    \n",
              "19    October 31 2018    S123360        Sydney2         Cat    \n",
              "20    October 25 2018    830506         Skylar          Dog    \n",
              "21    October 23 2018    S137719        Cleo            Dog    \n",
              "22    November 07 2018   905090         Petey           Dog    \n",
              "23    December 24 2018   S152290        Kaia            Dog    \n",
              "24    October 23 2018    S122244        Calvin          Cat    \n",
              "25    December 27 2018   8004142        Maya            Dog    \n",
              "26    November 15 2018   8002730        Mochi           Cat    \n",
              "27    November 27 2018   S125276        dmh             Cat    \n",
              "28    December 20 2018   952291         Justin          Cat    \n",
              "29    November 18 2018   835221         Shirley         Dog    \n",
              "30    October 18 2018    S101544        Diesel          Dog    \n",
              "⋮     ⋮                  ⋮              ⋮               ⋮      \n",
              "52490 December 23 2016   S125539        Cake            Dog    \n",
              "52491 November 22 2017   S138308        Margie          Dog    \n",
              "52492 October 09 2017    S105374        Kristy          Cat    \n",
              "52493 April 24 2018      S104465        Tumbler         Cat    \n",
              "52494 July 05 2018       731342         Lily            Cat    \n",
              "52495 September 13 2017  S135798        Ruby            Dog    \n",
              "52496 July 20 2018       282995         Violet          Dog    \n",
              "52497 July 14 2018       S144391        Thursday        Cat    \n",
              "52498 December 22 2017   949309         Homie G         Cat    \n",
              "52499 October 12 2017    S104680        Poppy Valentine Dog    \n",
              "52500 June 01 2018       212116         Mickey          Dog    \n",
              "52501 December 28 2016   S125749        Marie           Cat    \n",
              "52502 August 22 2018     8000275        Elio            Dog    \n",
              "52503 July 10 2018       S145780        Sage            Dog    \n",
              "52504 July 24 2018       77495          Riley           Cat    \n",
              "52505 December 14 2017   956225         Nya             Dog    \n",
              "52506 May 15 2018        S143729        Jones           Dog    \n",
              "52507 August 24 2017     S133481        Buddy 2         Dog    \n",
              "52508 October 18 2016    831383         Magic           Dog    \n",
              "52509 October 09 2018    S122253        Dory            Dog    \n",
              "52510 October 09 2018    8001684        Hank            Dog    \n",
              "52511 July 05 2018       S116195        Oliver          Dog    \n",
              "52512 October 01 2018    8001462        Bo              Dog    \n",
              "52513 August 03 2017     29059          Sophia          Cat    \n",
              "52514 June 26 2018       353939         Jake            Dog    \n",
              "52515 July 26 2017       204383         Molly           Cat    \n",
              "52516 March 28 2018      S140831        Onion           Cat    \n",
              "52517 September 15 2018  8000931        Lego            Dog    \n",
              "52518 September 01 2017  S135347        Iris            Dog    \n",
              "52519 December 20 2016   959610         Bailey          Dog    \n",
              "      primary_breed                                  zip_code\n",
              "1     Mixed Breed, Medium (up to 44 lbs fully grown) 98108   \n",
              "2     Terrier, Jack Russell                          98117   \n",
              "3     Retriever, Labrador                            98136   \n",
              "4     Domestic Shorthair                             98117   \n",
              "5     Domestic Shorthair                             98144   \n",
              "6     Retriever, Labrador                            98103   \n",
              "7     Terrier, Boston                                98115   \n",
              "8     Domestic Shorthair                             98122   \n",
              "9     Domestic Shorthair                             98105   \n",
              "10    Domestic Shorthair                             98199   \n",
              "11    Terrier                                        98126   \n",
              "12    Chihuahua, Short Coat                          98177   \n",
              "13    Siamese                                        98122   \n",
              "14    Vizsla, Smooth Haired                          98105   \n",
              "15    Domestic Shorthair                             98126   \n",
              "16    Boxer                                          98109   \n",
              "17    Domestic Shorthair                             98144   \n",
              "18    Poodle, Standard                               98112   \n",
              "19    Domestic Medium Hair                           98101   \n",
              "20    Border Collie                                  98144   \n",
              "21    Bernese Mountain Dog                           98107   \n",
              "22    Pomeranian                                     98119   \n",
              "23    Karelian Bear Dog                              98117   \n",
              "24    American Shorthair                             98119   \n",
              "25    Chihuahua, Short Coat                          98126   \n",
              "26    Domestic Medium Hair                           98105   \n",
              "27    Domestic Medium Hair                           98117   \n",
              "28    Domestic Medium Hair                           98122   \n",
              "29    Australian Shepherd                            98144   \n",
              "30    Shepherd                                       98118   \n",
              "⋮     ⋮                                              ⋮       \n",
              "52490 Australian Shepherd, Miniature                 98117   \n",
              "52491 Coton de Tulear                                98112   \n",
              "52492 American Shorthair                             98117   \n",
              "52493 Domestic Longhair                              98117   \n",
              "52494 Siamese                                        98122   \n",
              "52495 Retriever, Labrador                            98103   \n",
              "52496 Chihuahua, Short Coat                          98199   \n",
              "52497 Domestic Medium Hair                           98103   \n",
              "52498 Domestic Medium Hair                           98133   \n",
              "52499 Retriever, Golden                              98119   \n",
              "52500 Australian Shepherd                            98118   \n",
              "52501 Domestic Shorthair                             98115   \n",
              "52502 Terrier, Staffordshire Bull                    98104   \n",
              "52503 Poodle, Standard                               98118   \n",
              "52504 Domestic Shorthair                             98103   \n",
              "52505 Terrier, Yorkshire                             98122   \n",
              "52506 Retriever, Flat-Coated                         98112   \n",
              "52507 Retriever, Labrador                            98177   \n",
              "52508 Doberman Pinscher                              98116   \n",
              "52509 Retriever, Labrador                            98177   \n",
              "52510 Australian Shepherd                            98122   \n",
              "52511 Chihuahua, Short Coat                          98119   \n",
              "52512 Terrier, Yorkshire                             98116   \n",
              "52513 Siamese                                        98103   \n",
              "52514 Retriever, Labrador                            98122   \n",
              "52515 Domestic Longhair                              98125   \n",
              "52516 Domestic Shorthair                             98177   \n",
              "52517 Pomeranian                                     98107   \n",
              "52518 Terrier, American Staffordshire                98115   \n",
              "52519 Retriever, Labrador                            98116   "
            ]
          },
          "metadata": {}
        }
      ],
      "source": [
        "# YOUR SOLUTION HERE\n",
        "data_nona <- data[, !colnames(data) %in% \"secondary_breed\"]\n",
        "data_nona <- na.omit(data_nona)\n",
        "data_nona"
      ]
    },
    {
      "cell_type": "markdown",
      "metadata": {
        "id": "X8Of1-qafcr0"
      },
      "source": [
        "**(c)** Display the proportion of each species in `data_nona`. Make sure to round the numbers to 4 decimal places. *(0.25 points)*"
      ]
    },
    {
      "cell_type": "code",
      "execution_count": 68,
      "metadata": {
        "colab": {
          "base_uri": "https://localhost:8080/",
          "height": 223
        },
        "id": "jzSa0piCMCg2",
        "outputId": "7be448c6-65b5-4071-b894-4de91621f31f"
      },
      "outputs": [
        {
          "output_type": "display_data",
          "data": {
            "text/html": [
              "<table class=\"dataframe\">\n",
              "<caption>A tibble: 4 × 2</caption>\n",
              "<thead>\n",
              "\t<tr><th scope=col>species</th><th scope=col>prop</th></tr>\n",
              "\t<tr><th scope=col>&lt;chr&gt;</th><th scope=col>&lt;dbl&gt;</th></tr>\n",
              "</thead>\n",
              "<tbody>\n",
              "\t<tr><td>Dog </td><td>0.6745</td></tr>\n",
              "\t<tr><td>Cat </td><td>0.3247</td></tr>\n",
              "\t<tr><td>Goat</td><td>0.0007</td></tr>\n",
              "\t<tr><td>Pig </td><td>0.0001</td></tr>\n",
              "</tbody>\n",
              "</table>\n"
            ],
            "text/markdown": "\nA tibble: 4 × 2\n\n| species &lt;chr&gt; | prop &lt;dbl&gt; |\n|---|---|\n| Dog  | 0.6745 |\n| Cat  | 0.3247 |\n| Goat | 0.0007 |\n| Pig  | 0.0001 |\n\n",
            "text/latex": "A tibble: 4 × 2\n\\begin{tabular}{ll}\n species & prop\\\\\n <chr> & <dbl>\\\\\n\\hline\n\t Dog  & 0.6745\\\\\n\t Cat  & 0.3247\\\\\n\t Goat & 0.0007\\\\\n\t Pig  & 0.0001\\\\\n\\end{tabular}\n",
            "text/plain": [
              "  species prop  \n",
              "1 Dog     0.6745\n",
              "2 Cat     0.3247\n",
              "3 Goat    0.0007\n",
              "4 Pig     0.0001"
            ]
          },
          "metadata": {}
        }
      ],
      "source": [
        "# YOUR SOLUTION HERE\n",
        "data_nona %>%\n",
        "  group_by(species) %>%\n",
        "    summarise(prop = round((n()/nrow(data_nona)),4)) %>%\n",
        "    arrange (desc(prop))"
      ]
    },
    {
      "cell_type": "markdown",
      "metadata": {
        "id": "aDJP4rIUgAZM"
      },
      "source": [
        "**(d)** What are the top 3 dog names in `data_nona`? *(0.25 points)*"
      ]
    },
    {
      "cell_type": "code",
      "execution_count": 17,
      "metadata": {
        "id": "AYxvfRCKMO9I",
        "colab": {
          "base_uri": "https://localhost:8080/",
          "height": 69
        },
        "outputId": "736f9052-442a-4cb2-ded6-2e84c7172393"
      },
      "outputs": [
        {
          "output_type": "display_data",
          "data": {
            "text/plain": [
              "\n",
              "   Lucy Charlie   Bella \n",
              "    335     306     245 "
            ]
          },
          "metadata": {}
        }
      ],
      "source": [
        "# YOUR SOLUTION HERE\n",
        "dogs_data <- data_nona[data_nona$species == \"Dog\", ]\n",
        "top_dog_names <- head(sort(table(dogs_data$animals_name), decreasing = TRUE), 3)\n",
        "top_dog_names"
      ]
    },
    {
      "cell_type": "markdown",
      "metadata": {
        "id": "Q8r1YgvQhJna"
      },
      "source": [
        "### Problem 2: Registered pets in Seattle, WA: In-Depth Analysis (4 points)\n",
        "\n",
        "Before attempting this problem, you may want to read the following resources. If you prefer to learn from examples, feel free to jump straight into the examples for each function provided below.\n",
        "1. https://stringr.tidyverse.org/reference/str_length.html\n",
        "2. https://stringr.tidyverse.org/reference/str_detect.html\n",
        "3. https://stringr.tidyverse.org/reference/str_sub.html\n",
        "4. https://stringr.tidyverse.org/reference/word.html\n",
        "\n",
        "You will learn more about working with text data after your midterm exam."
      ]
    },
    {
      "cell_type": "code",
      "execution_count": 19,
      "metadata": {
        "colab": {
          "base_uri": "https://localhost:8080/",
          "height": 52
        },
        "id": "fWH5SwPQM8Gb",
        "outputId": "7d06f57a-5500-445b-e3e8-6041148c8814"
      },
      "outputs": [
        {
          "output_type": "display_data",
          "data": {
            "text/html": [
              "10"
            ],
            "text/markdown": "10",
            "text/latex": "10",
            "text/plain": [
              "[1] 10"
            ]
          },
          "metadata": {}
        },
        {
          "output_type": "display_data",
          "data": {
            "text/html": [
              "1"
            ],
            "text/markdown": "1",
            "text/latex": "1",
            "text/plain": [
              "[1] 1"
            ]
          },
          "metadata": {}
        }
      ],
      "source": [
        "# str_length outputs the number of characters in a string\n",
        "\n",
        "str_length('I am a cat') # there are 10 characters in the string, including spaces\n",
        "str_length('R') # there is 1 character in the string"
      ]
    },
    {
      "cell_type": "code",
      "execution_count": 20,
      "metadata": {
        "colab": {
          "base_uri": "https://localhost:8080/",
          "height": 52
        },
        "id": "zVIr4hjdM9Cy",
        "outputId": "b7bc4d2a-7564-4b31-e72e-ed11d4b155b6"
      },
      "outputs": [
        {
          "output_type": "display_data",
          "data": {
            "text/html": [
              "TRUE"
            ],
            "text/markdown": "TRUE",
            "text/latex": "TRUE",
            "text/plain": [
              "[1] TRUE"
            ]
          },
          "metadata": {}
        },
        {
          "output_type": "display_data",
          "data": {
            "text/html": [
              "FALSE"
            ],
            "text/markdown": "FALSE",
            "text/latex": "FALSE",
            "text/plain": [
              "[1] FALSE"
            ]
          },
          "metadata": {}
        }
      ],
      "source": [
        "# str_detect outputs whether a substring is present in a string\n",
        "\n",
        "str_detect('I am a cat', 'cat') # substring 'cat' is present in the string\n",
        "str_detect('I am a cat', 'dog') # substring 'dog' is not present in the string"
      ]
    },
    {
      "cell_type": "code",
      "execution_count": 21,
      "metadata": {
        "colab": {
          "base_uri": "https://localhost:8080/",
          "height": 52
        },
        "id": "YINg2gpKM9E1",
        "outputId": "0fb2bcd0-fecd-41b5-9480-2d0caa6c8405"
      },
      "outputs": [
        {
          "output_type": "display_data",
          "data": {
            "text/html": [
              "'cat'"
            ],
            "text/markdown": "'cat'",
            "text/latex": "'cat'",
            "text/plain": [
              "[1] \"cat\""
            ]
          },
          "metadata": {}
        },
        {
          "output_type": "display_data",
          "data": {
            "text/html": [
              "'am'"
            ],
            "text/markdown": "'am'",
            "text/latex": "'am'",
            "text/plain": [
              "[1] \"am\""
            ]
          },
          "metadata": {}
        }
      ],
      "source": [
        "# str_sub outputs a substring of a string given starting and ending positions\n",
        "\n",
        "str_sub('I am a cat', -3, -1) # obtains substring from position -3 (third from last) to -1 (last)\n",
        "str_sub('I am a cat', 3, 4) # obtains substring from position 3 to 4"
      ]
    },
    {
      "cell_type": "code",
      "execution_count": 22,
      "metadata": {
        "colab": {
          "base_uri": "https://localhost:8080/",
          "height": 52
        },
        "id": "QNsh21aPM9HM",
        "outputId": "39011a38-0886-4c6e-97d7-bc5107b8acf7"
      },
      "outputs": [
        {
          "output_type": "display_data",
          "data": {
            "text/html": [
              "'am'"
            ],
            "text/markdown": "'am'",
            "text/latex": "'am'",
            "text/plain": [
              "[1] \"am\""
            ]
          },
          "metadata": {}
        },
        {
          "output_type": "display_data",
          "data": {
            "text/html": [
              "'cat'"
            ],
            "text/markdown": "'cat'",
            "text/latex": "'cat'",
            "text/plain": [
              "[1] \"cat\""
            ]
          },
          "metadata": {}
        }
      ],
      "source": [
        "# word outputs the n-th word in the string\n",
        "\n",
        "word('I am a cat', 2) # obtains the second word in the string\n",
        "word('I am a cat', -1) # obtains the last word in the string"
      ]
    },
    {
      "cell_type": "markdown",
      "metadata": {
        "id": "L8YqqfF_OQeo"
      },
      "source": [
        "Now, here are the questions."
      ]
    },
    {
      "cell_type": "markdown",
      "metadata": {
        "id": "pkxKJ63-hZP6"
      },
      "source": [
        "**(a)** Use `data_nona`. On average, are cat names longer or shorter or longer as compared to dog names? Use the `mean()` and `str_length()` functions in your answer. *(0.5 points)*"
      ]
    },
    {
      "cell_type": "code",
      "execution_count": 92,
      "metadata": {
        "id": "U-V51JolMiyG",
        "colab": {
          "base_uri": "https://localhost:8080/",
          "height": 69
        },
        "outputId": "1454d336-ec4f-447f-fda9-336cfcca257e"
      },
      "outputs": [
        {
          "output_type": "display_data",
          "data": {
            "text/html": [
              "5.91937022900763"
            ],
            "text/markdown": "5.91937022900763",
            "text/latex": "5.91937022900763",
            "text/plain": [
              "[1] 5.91937"
            ]
          },
          "metadata": {}
        },
        {
          "output_type": "display_data",
          "data": {
            "text/html": [
              "5.7102709840395"
            ],
            "text/markdown": "5.7102709840395",
            "text/latex": "5.7102709840395",
            "text/plain": [
              "[1] 5.710271"
            ]
          },
          "metadata": {}
        },
        {
          "output_type": "display_data",
          "data": {
            "text/html": [
              "'longer'"
            ],
            "text/markdown": "'longer'",
            "text/latex": "'longer'",
            "text/plain": [
              "[1] \"longer\""
            ]
          },
          "metadata": {}
        }
      ],
      "source": [
        "# YOUR SOLUTION HERE\n",
        "cat_avg_length <- mean(str_length(data_nona[data_nona$species == \"Cat\", \"animals_name\"]))\n",
        "dog_avg_length <- mean(str_length(data_nona[data_nona$species == \"Dog\", \"animals_name\"]))\n",
        "if (cat_avg_length > dog_avg_length) {\n",
        "  cat_vs_dog <- \"longer\"\n",
        "} else if (cat_avg_length < dog_avg_length) {\n",
        "  cat_vs_dog <- \"shorter\"\n",
        "} else {\n",
        "  cat_vs_dog <- \"equal\"\n",
        "}\n",
        "\n",
        "cat_avg_length\n",
        "dog_avg_length\n",
        "cat_vs_dog"
      ]
    },
    {
      "cell_type": "markdown",
      "source": [
        "On average, cat names are longer than dog names."
      ],
      "metadata": {
        "id": "gKgXWduQwOGf"
      }
    },
    {
      "cell_type": "markdown",
      "metadata": {
        "id": "c-qO5N9oDt9T"
      },
      "source": [
        "**(b)** In `data_nona`, what is the longest cat name? How many characters (including spaces) does the name contain? *(0.5 points)*"
      ]
    },
    {
      "cell_type": "code",
      "source": [
        "# YOUR SOLUTION HERE\n",
        "data_nona %>%\n",
        "  filter(species == \"Cat\") %>%\n",
        "    group_by(animals_name) %>%\n",
        "    mutate(char = str_length(animals_name)) %>%\n",
        "    arrange (desc(char)) %>%\n",
        "    head(1)"
      ],
      "metadata": {
        "colab": {
          "base_uri": "https://localhost:8080/",
          "height": 129
        },
        "id": "qMNfwQW2sWMz",
        "outputId": "e587ba0f-52c7-487b-a24f-4511b35589a9"
      },
      "execution_count": 73,
      "outputs": [
        {
          "output_type": "display_data",
          "data": {
            "text/html": [
              "<table class=\"dataframe\">\n",
              "<caption>A grouped_df: 1 × 8</caption>\n",
              "<thead>\n",
              "\t<tr><th scope=col>license_issue_date</th><th scope=col>license_number</th><th scope=col>animals_name</th><th scope=col>species</th><th scope=col>primary_breed</th><th scope=col>zip_code</th><th scope=col>month</th><th scope=col>char</th></tr>\n",
              "\t<tr><th scope=col>&lt;chr&gt;</th><th scope=col>&lt;chr&gt;</th><th scope=col>&lt;chr&gt;</th><th scope=col>&lt;chr&gt;</th><th scope=col>&lt;chr&gt;</th><th scope=col>&lt;chr&gt;</th><th scope=col>&lt;chr&gt;</th><th scope=col>&lt;int&gt;</th></tr>\n",
              "</thead>\n",
              "<tbody>\n",
              "\t<tr><td>April 11 2018</td><td>S104453</td><td>Her Ladyship Princess Penelope Peachfuzz Howe</td><td>Cat</td><td>Domestic Shorthair</td><td>98107</td><td>April</td><td>45</td></tr>\n",
              "</tbody>\n",
              "</table>\n"
            ],
            "text/markdown": "\nA grouped_df: 1 × 8\n\n| license_issue_date &lt;chr&gt; | license_number &lt;chr&gt; | animals_name &lt;chr&gt; | species &lt;chr&gt; | primary_breed &lt;chr&gt; | zip_code &lt;chr&gt; | month &lt;chr&gt; | char &lt;int&gt; |\n|---|---|---|---|---|---|---|---|\n| April 11 2018 | S104453 | Her Ladyship Princess Penelope Peachfuzz Howe | Cat | Domestic Shorthair | 98107 | April | 45 |\n\n",
            "text/latex": "A grouped\\_df: 1 × 8\n\\begin{tabular}{llllllll}\n license\\_issue\\_date & license\\_number & animals\\_name & species & primary\\_breed & zip\\_code & month & char\\\\\n <chr> & <chr> & <chr> & <chr> & <chr> & <chr> & <chr> & <int>\\\\\n\\hline\n\t April 11 2018 & S104453 & Her Ladyship Princess Penelope Peachfuzz Howe & Cat & Domestic Shorthair & 98107 & April & 45\\\\\n\\end{tabular}\n",
            "text/plain": [
              "  license_issue_date license_number\n",
              "1 April 11 2018      S104453       \n",
              "  animals_name                                  species primary_breed     \n",
              "1 Her Ladyship Princess Penelope Peachfuzz Howe Cat     Domestic Shorthair\n",
              "  zip_code month char\n",
              "1 98107    April 45  "
            ]
          },
          "metadata": {}
        }
      ]
    },
    {
      "cell_type": "markdown",
      "source": [
        "The longest cat name (including spaces) contain 45 characters."
      ],
      "metadata": {
        "id": "5_ETeA2Ss1Rm"
      }
    },
    {
      "cell_type": "markdown",
      "metadata": {
        "id": "SLE1YjZQkq9S"
      },
      "source": [
        "**(c)** Create a data set called `data_dog`, which consists of only dogs in `data_nona`. Then, add a column called `year` to `data_dog`. As the name suggests, this column extracts the year from the column `license_issue_date`. The function `str_sub()` or `word()` might be helpful here.\n",
        "\n",
        "In `data_dog`, which year saw the highest number of registered dogs? *(0.75 points)*"
      ]
    },
    {
      "cell_type": "code",
      "execution_count": 31,
      "metadata": {
        "id": "BeCmhNF1ktqn",
        "colab": {
          "base_uri": "https://localhost:8080/",
          "height": 34
        },
        "outputId": "845f8ac5-2af8-41a6-d1aa-61729b69f65f"
      },
      "outputs": [
        {
          "output_type": "display_data",
          "data": {
            "text/html": [
              "2018"
            ],
            "text/markdown": "2018",
            "text/latex": "2018",
            "text/plain": [
              "[1] 2018"
            ]
          },
          "metadata": {}
        }
      ],
      "source": [
        "# YOUR SOLUTION HERE\n",
        "data_dog <- data_nona %>%\n",
        "  filter(species == \"Dog\") %>%\n",
        "  mutate(year = as.numeric(str_sub(license_issue_date, -4, -1)))\n",
        "\n",
        "year_with_highest_dogs <- data_dog %>%\n",
        "  count(year) %>%\n",
        "  filter(n == max(n)) %>%\n",
        "  pull(year)\n",
        "\n",
        "year_with_highest_dogs"
      ]
    },
    {
      "cell_type": "markdown",
      "metadata": {
        "id": "5RYUn6ETm8kW"
      },
      "source": [
        "**(d)** A dog is a `Retriever` if its `primary_breed` contains the word `Retriever`. A dog is a `Terrier` if its `primary_breed` contains the word `Terrier`. A dog which is neither a `Retriever` nor a `Terrier` is an `Other`.\n",
        "\n",
        "Focus on years 2016, 2017 and 2018 in `data_dog`. *Without introducing any intermediate variables*, display the proportions of Retrievers, Terriers and Others *within each year*, rounded to 3 decimal places. The function `str_detect()` might be useful here.\n",
        "\n",
        "From these proportions, what can you say about the popularity of Terriers across the years? *(1.5 points)*\n",
        "\n"
      ]
    },
    {
      "cell_type": "code",
      "execution_count": 34,
      "metadata": {
        "id": "JV8Sr5Cfm94P",
        "colab": {
          "base_uri": "https://localhost:8080/",
          "height": 104
        },
        "outputId": "2c614150-03ae-4bbb-c1fd-c6ba5c661a3a"
      },
      "outputs": [
        {
          "output_type": "display_data",
          "data": {
            "text/plain": [
              "      \n",
              "       Other Retriever Terrier\n",
              "  2016 0.628     0.205   0.167\n",
              "  2017 0.640     0.213   0.146\n",
              "  2018 0.661     0.202   0.136"
            ]
          },
          "metadata": {}
        }
      ],
      "source": [
        "# YOUR SOLUTION HERE\n",
        "data_dog_2016_2018 <- data_dog[data_dog$year %in% c(2016, 2017, 2018), ]\n",
        "proportions_by_year <- round(prop.table(table(data_dog_2016_2018$year,\n",
        "                       ifelse(str_detect(data_dog_2016_2018$primary_breed, \"Retriever\"), \"Retriever\",\n",
        "                       ifelse(str_detect(data_dog_2016_2018$primary_breed, \"Terrier\"), \"Terrier\", \"Other\"))), margin = 1), 3)\n",
        "proportions_by_year\n"
      ]
    },
    {
      "cell_type": "markdown",
      "metadata": {
        "id": "tWqax_R_FHz0"
      },
      "source": [
        "**(e)** In `data_nona`, which month sees the highest $\\frac{\\textrm{number of registered cats}}{\\textrm{number of registered dogs}}$? The function `word()` might be helpful here. *(0.75 points)*\n",
        "\n"
      ]
    },
    {
      "cell_type": "code",
      "execution_count": 77,
      "metadata": {
        "id": "Lr2LF-DFGSOx",
        "colab": {
          "base_uri": "https://localhost:8080/",
          "height": 129
        },
        "outputId": "8235e6ab-fe8b-48db-826d-ae55b51f66af"
      },
      "outputs": [
        {
          "output_type": "display_data",
          "data": {
            "text/html": [
              "<table class=\"dataframe\">\n",
              "<caption>A tibble: 1 × 2</caption>\n",
              "<thead>\n",
              "\t<tr><th scope=col>month</th><th scope=col>ratio</th></tr>\n",
              "\t<tr><th scope=col>&lt;chr&gt;</th><th scope=col>&lt;dbl&gt;</th></tr>\n",
              "</thead>\n",
              "<tbody>\n",
              "\t<tr><td>October</td><td>0.571831</td></tr>\n",
              "</tbody>\n",
              "</table>\n"
            ],
            "text/markdown": "\nA tibble: 1 × 2\n\n| month &lt;chr&gt; | ratio &lt;dbl&gt; |\n|---|---|\n| October | 0.571831 |\n\n",
            "text/latex": "A tibble: 1 × 2\n\\begin{tabular}{ll}\n month & ratio\\\\\n <chr> & <dbl>\\\\\n\\hline\n\t October & 0.571831\\\\\n\\end{tabular}\n",
            "text/plain": [
              "  month   ratio   \n",
              "1 October 0.571831"
            ]
          },
          "metadata": {}
        }
      ],
      "source": [
        "# YOUR SOLUTION HERE\n",
        "data_nona %>%\n",
        "  filter(species %in% c(\"Cat\", \"Dog\")) %>%\n",
        "  group_by(month = word(license_issue_date, 1)) %>%\n",
        "  summarise(ratio = sum (str_detect(species, \"Cat\") / sum(str_detect(species, \"Dog\")))) %>%\n",
        "  arrange(desc(ratio)) %>%\n",
        "  head(1)"
      ]
    },
    {
      "cell_type": "markdown",
      "metadata": {
        "id": "sil6nbrE31cv"
      },
      "source": [
        "### Problem 3: Air Quality (2.5 points)\n",
        "\n",
        "In this problem, we will explore the *Air Quality* data set, which includes daily air quality measurements in New York from May to September 1973. It is a built-in data set in R, so we can directly load the data set. Use `help` or `?` to get a description of the data set."
      ]
    },
    {
      "cell_type": "code",
      "execution_count": 36,
      "metadata": {
        "colab": {
          "base_uri": "https://localhost:8080/",
          "height": 286
        },
        "id": "2ls1Rm8VUPTh",
        "outputId": "39316e6d-1135-4563-c868-92577bb5f68f"
      },
      "outputs": [
        {
          "output_type": "display_data",
          "data": {
            "text/html": [
              "<table class=\"dataframe\">\n",
              "<caption>A data.frame: 6 × 6</caption>\n",
              "<thead>\n",
              "\t<tr><th></th><th scope=col>Ozone</th><th scope=col>Solar.R</th><th scope=col>Wind</th><th scope=col>Temp</th><th scope=col>Month</th><th scope=col>Day</th></tr>\n",
              "\t<tr><th></th><th scope=col>&lt;int&gt;</th><th scope=col>&lt;int&gt;</th><th scope=col>&lt;dbl&gt;</th><th scope=col>&lt;int&gt;</th><th scope=col>&lt;int&gt;</th><th scope=col>&lt;int&gt;</th></tr>\n",
              "</thead>\n",
              "<tbody>\n",
              "\t<tr><th scope=row>1</th><td>41</td><td>190</td><td> 7.4</td><td>67</td><td>5</td><td>1</td></tr>\n",
              "\t<tr><th scope=row>2</th><td>36</td><td>118</td><td> 8.0</td><td>72</td><td>5</td><td>2</td></tr>\n",
              "\t<tr><th scope=row>3</th><td>12</td><td>149</td><td>12.6</td><td>74</td><td>5</td><td>3</td></tr>\n",
              "\t<tr><th scope=row>4</th><td>18</td><td>313</td><td>11.5</td><td>62</td><td>5</td><td>4</td></tr>\n",
              "\t<tr><th scope=row>5</th><td>NA</td><td> NA</td><td>14.3</td><td>56</td><td>5</td><td>5</td></tr>\n",
              "\t<tr><th scope=row>6</th><td>28</td><td> NA</td><td>14.9</td><td>66</td><td>5</td><td>6</td></tr>\n",
              "</tbody>\n",
              "</table>\n"
            ],
            "text/markdown": "\nA data.frame: 6 × 6\n\n| <!--/--> | Ozone &lt;int&gt; | Solar.R &lt;int&gt; | Wind &lt;dbl&gt; | Temp &lt;int&gt; | Month &lt;int&gt; | Day &lt;int&gt; |\n|---|---|---|---|---|---|---|\n| 1 | 41 | 190 |  7.4 | 67 | 5 | 1 |\n| 2 | 36 | 118 |  8.0 | 72 | 5 | 2 |\n| 3 | 12 | 149 | 12.6 | 74 | 5 | 3 |\n| 4 | 18 | 313 | 11.5 | 62 | 5 | 4 |\n| 5 | NA |  NA | 14.3 | 56 | 5 | 5 |\n| 6 | 28 |  NA | 14.9 | 66 | 5 | 6 |\n\n",
            "text/latex": "A data.frame: 6 × 6\n\\begin{tabular}{r|llllll}\n  & Ozone & Solar.R & Wind & Temp & Month & Day\\\\\n  & <int> & <int> & <dbl> & <int> & <int> & <int>\\\\\n\\hline\n\t1 & 41 & 190 &  7.4 & 67 & 5 & 1\\\\\n\t2 & 36 & 118 &  8.0 & 72 & 5 & 2\\\\\n\t3 & 12 & 149 & 12.6 & 74 & 5 & 3\\\\\n\t4 & 18 & 313 & 11.5 & 62 & 5 & 4\\\\\n\t5 & NA &  NA & 14.3 & 56 & 5 & 5\\\\\n\t6 & 28 &  NA & 14.9 & 66 & 5 & 6\\\\\n\\end{tabular}\n",
            "text/plain": [
              "  Ozone Solar.R Wind Temp Month Day\n",
              "1 41    190      7.4 67   5     1  \n",
              "2 36    118      8.0 72   5     2  \n",
              "3 12    149     12.6 74   5     3  \n",
              "4 18    313     11.5 62   5     4  \n",
              "5 NA     NA     14.3 56   5     5  \n",
              "6 28     NA     14.9 66   5     6  "
            ]
          },
          "metadata": {}
        }
      ],
      "source": [
        "# ?airquality\n",
        "airquality %>% head()"
      ]
    },
    {
      "cell_type": "markdown",
      "metadata": {
        "id": "h_8VlAk9MlFx"
      },
      "source": [
        "**(a)** What is the total number of missing values in the data set? How many columns have at least one missing value? How many days (observations) have missing values? Show your code to derive these answers to receive full credit. *(1 point)*"
      ]
    },
    {
      "cell_type": "code",
      "execution_count": 78,
      "metadata": {
        "id": "fexETuOqMu6S",
        "colab": {
          "base_uri": "https://localhost:8080/",
          "height": 69
        },
        "outputId": "e246608d-1a79-48d3-a085-032c30867c57"
      },
      "outputs": [
        {
          "output_type": "display_data",
          "data": {
            "text/html": [
              "44"
            ],
            "text/markdown": "44",
            "text/latex": "44",
            "text/plain": [
              "[1] 44"
            ]
          },
          "metadata": {}
        },
        {
          "output_type": "display_data",
          "data": {
            "text/html": [
              "2"
            ],
            "text/markdown": "2",
            "text/latex": "2",
            "text/plain": [
              "[1] 2"
            ]
          },
          "metadata": {}
        },
        {
          "output_type": "display_data",
          "data": {
            "text/html": [
              "42"
            ],
            "text/markdown": "42",
            "text/latex": "42",
            "text/plain": [
              "[1] 42"
            ]
          },
          "metadata": {}
        }
      ],
      "source": [
        "#YOUR SOLUTION HERE\n",
        "sum(is.na(airquality))\n",
        "sum(colSums(is.na(airquality)) > 0)\n",
        "sum(rowSums(is.na(airquality)) > 0)\n"
      ]
    },
    {
      "cell_type": "markdown",
      "source": [
        "The total number of missing values in the data set is 44.\n",
        "2 columns have at least one missing value.\n",
        "42 days have missing values\n",
        "\n"
      ],
      "metadata": {
        "id": "DO2Xw3-pum0f"
      }
    },
    {
      "cell_type": "markdown",
      "metadata": {
        "id": "Z7DjrY-GXZo-"
      },
      "source": [
        "**(b)** Generate a line plot with dots reflecting the mean monthly temperature and ozone level, as shown below. What can you learn from the plot? Provide a brief description of the relationship between temperature and ozone level. Make sure to add appropriate titles and labels to the plot. *(1.5 points)*"
      ]
    },
    {
      "cell_type": "code",
      "execution_count": 84,
      "metadata": {
        "colab": {
          "base_uri": "https://localhost:8080/",
          "height": 257
        },
        "id": "Z8d_Y3_iXUkl",
        "outputId": "24b69654-7723-428c-e6fd-b80d5579ab6a"
      },
      "outputs": [
        {
          "output_type": "display_data",
          "data": {
            "text/plain": [
              "plot without title"
            ],
            "image/png": "[encoded data removed]"
          },
          "metadata": {
            "image/png": {
              "width": 300,
              "height": 240
            }
          }
        }
      ],
      "source": [
        "# YOUR SOLUTION HERE\n",
        "monthly_means <- airquality %>%\n",
        "  group_by(Month) %>%\n",
        "  summarize(avg_temp = mean(Temp, na.rm = TRUE),\n",
        "            avg_ozone = mean(Ozone, na.rm = TRUE))\n",
        "\n",
        "ggplot(monthly_means, aes(x = Month)) +\n",
        "  geom_line(aes(y = avg_temp, color = \"avg_temp\")) +\n",
        "  geom_point(aes(y = avg_temp, color = \"avg_temp\")) +\n",
        "  geom_line(aes(y = avg_ozone, color = \"avg_ozone\")) +\n",
        "  geom_point(aes(y = avg_ozone, color = \"avg_ozone\")) +\n",
        "  labs(title = \"Monthly Temperature and Ozone Value Line Plot\",\n",
        "       x = \"Month\",\n",
        "       y = \"Average Values\",\n",
        "       color = \"Feature\") +\n",
        "  scale_color_manual(values = c(\"avg_temp\" = \"blue\", \"avg_ozone\" = \"red\")) +\n",
        "  theme_minimal()"
      ]
    },
    {
      "cell_type": "markdown",
      "metadata": {
        "id": "hxZ61Rzwcc39"
      },
      "source": [
        "### Problem 4: Gapminder (2.5 points)\n",
        "In this problem, we will explore *Gapminder*, a data set on life expectancy, GDP per capita, and population by country. It is an excerpt from the [Gapminder](https://www.gapminder.org/data/) data."
      ]
    },
    {
      "cell_type": "code",
      "execution_count": 49,
      "metadata": {
        "colab": {
          "base_uri": "https://localhost:8080/",
          "height": 338
        },
        "id": "byzsQ7OQi3xm",
        "outputId": "017e2dc9-ca46-45d3-b552-157a5caf0de9"
      },
      "outputs": [
        {
          "output_type": "stream",
          "name": "stderr",
          "text": [
            "Installing package into ‘/usr/local/lib/R/site-library’\n",
            "(as ‘lib’ is unspecified)\n",
            "\n"
          ]
        },
        {
          "output_type": "display_data",
          "data": {
            "text/html": [
              "<table class=\"dataframe\">\n",
              "<caption>A tibble: 6 × 6</caption>\n",
              "<thead>\n",
              "\t<tr><th scope=col>country</th><th scope=col>continent</th><th scope=col>year</th><th scope=col>lifeExp</th><th scope=col>pop</th><th scope=col>gdpPercap</th></tr>\n",
              "\t<tr><th scope=col>&lt;fct&gt;</th><th scope=col>&lt;fct&gt;</th><th scope=col>&lt;int&gt;</th><th scope=col>&lt;dbl&gt;</th><th scope=col>&lt;int&gt;</th><th scope=col>&lt;dbl&gt;</th></tr>\n",
              "</thead>\n",
              "<tbody>\n",
              "\t<tr><td>Afghanistan</td><td>Asia</td><td>1952</td><td>28.801</td><td> 8425333</td><td>779.4453</td></tr>\n",
              "\t<tr><td>Afghanistan</td><td>Asia</td><td>1957</td><td>30.332</td><td> 9240934</td><td>820.8530</td></tr>\n",
              "\t<tr><td>Afghanistan</td><td>Asia</td><td>1962</td><td>31.997</td><td>10267083</td><td>853.1007</td></tr>\n",
              "\t<tr><td>Afghanistan</td><td>Asia</td><td>1967</td><td>34.020</td><td>11537966</td><td>836.1971</td></tr>\n",
              "\t<tr><td>Afghanistan</td><td>Asia</td><td>1972</td><td>36.088</td><td>13079460</td><td>739.9811</td></tr>\n",
              "\t<tr><td>Afghanistan</td><td>Asia</td><td>1977</td><td>38.438</td><td>14880372</td><td>786.1134</td></tr>\n",
              "</tbody>\n",
              "</table>\n"
            ],
            "text/markdown": "\nA tibble: 6 × 6\n\n| country &lt;fct&gt; | continent &lt;fct&gt; | year &lt;int&gt; | lifeExp &lt;dbl&gt; | pop &lt;int&gt; | gdpPercap &lt;dbl&gt; |\n|---|---|---|---|---|---|\n| Afghanistan | Asia | 1952 | 28.801 |  8425333 | 779.4453 |\n| Afghanistan | Asia | 1957 | 30.332 |  9240934 | 820.8530 |\n| Afghanistan | Asia | 1962 | 31.997 | 10267083 | 853.1007 |\n| Afghanistan | Asia | 1967 | 34.020 | 11537966 | 836.1971 |\n| Afghanistan | Asia | 1972 | 36.088 | 13079460 | 739.9811 |\n| Afghanistan | Asia | 1977 | 38.438 | 14880372 | 786.1134 |\n\n",
            "text/latex": "A tibble: 6 × 6\n\\begin{tabular}{llllll}\n country & continent & year & lifeExp & pop & gdpPercap\\\\\n <fct> & <fct> & <int> & <dbl> & <int> & <dbl>\\\\\n\\hline\n\t Afghanistan & Asia & 1952 & 28.801 &  8425333 & 779.4453\\\\\n\t Afghanistan & Asia & 1957 & 30.332 &  9240934 & 820.8530\\\\\n\t Afghanistan & Asia & 1962 & 31.997 & 10267083 & 853.1007\\\\\n\t Afghanistan & Asia & 1967 & 34.020 & 11537966 & 836.1971\\\\\n\t Afghanistan & Asia & 1972 & 36.088 & 13079460 & 739.9811\\\\\n\t Afghanistan & Asia & 1977 & 38.438 & 14880372 & 786.1134\\\\\n\\end{tabular}\n",
            "text/plain": [
              "  country     continent year lifeExp pop      gdpPercap\n",
              "1 Afghanistan Asia      1952 28.801   8425333 779.4453 \n",
              "2 Afghanistan Asia      1957 30.332   9240934 820.8530 \n",
              "3 Afghanistan Asia      1962 31.997  10267083 853.1007 \n",
              "4 Afghanistan Asia      1967 34.020  11537966 836.1971 \n",
              "5 Afghanistan Asia      1972 36.088  13079460 739.9811 \n",
              "6 Afghanistan Asia      1977 38.438  14880372 786.1134 "
            ]
          },
          "metadata": {}
        }
      ],
      "source": [
        "install.packages(\"gapminder\")\n",
        "library(gapminder)\n",
        "gapminder %>% head()"
      ]
    },
    {
      "cell_type": "markdown",
      "metadata": {
        "id": "JeiB_LoxxMt2"
      },
      "source": [
        "**(a)** Draw a bar plot (as shown below) to visualize the **proportion** of GDP by continent by year. We define GDP $:=$ GDP per Capita $\\times$ population. *(1.5 points)*"
      ]
    },
    {
      "cell_type": "code",
      "execution_count": 59,
      "metadata": {
        "colab": {
          "base_uri": "https://localhost:8080/",
          "height": 257
        },
        "id": "hibIQkbmtPXf",
        "outputId": "3add412c-dc73-4686-af48-43b37f2967cd"
      },
      "outputs": [
        {
          "output_type": "display_data",
          "data": {
            "text/plain": [
              "plot without title"
            ],
            "image/png": "[encoded data removed]"
          },
          "metadata": {
            "image/png": {
              "width": 300,
              "height": 240
            }
          }
        }
      ],
      "source": [
        "# YOUR SOLUTION HERE\n",
        "continent_year_gdp <- gapminder %>%\n",
        "  group_by(continent, year) %>%\n",
        "  summarize(total_gdp =  sum(gdpPercap * pop), .groups = \"drop\")\n",
        "\n",
        "continent_year_gdp <- continent_year_gdp %>%\n",
        "  group_by(year) %>%\n",
        "  mutate(proportion = total_gdp / sum(total_gdp))\n",
        "\n",
        "ggplot(continent_year_gdp, aes(x = year, y = proportion, fill = continent)) +\n",
        "  geom_bar(stat = \"identity\") +\n",
        "  labs(title = \"Proportion of GDP across Continents\",\n",
        "       x = \"Year\",\n",
        "       y = \"GDP Proportion\") +\n",
        "  scale_fill_manual(values = c(\"Asia\" = \"green\", \"Europe\" = \"lightblue\", \"Africa\" = \"pink\", \"Americas\" = \"darkgreen\", \"Oceania\" = \"purple\")) +\n",
        "  theme_minimal()"
      ]
    },
    {
      "cell_type": "markdown",
      "metadata": {
        "id": "1XHie74Myx_S"
      },
      "source": [
        "**(b)** Generate a scatter plot with smooth line fit of life expectancy (x-axis) and GDP per capita (y-axis) for all countries in Europe. What can you learn from this graph? *(1 point)*"
      ]
    },
    {
      "cell_type": "code",
      "execution_count": 88,
      "metadata": {
        "id": "QOC3mFbcxRn5",
        "colab": {
          "base_uri": "https://localhost:8080/",
          "height": 274
        },
        "outputId": "4c39d545-6afd-41db-9659-cee6b713adca"
      },
      "outputs": [
        {
          "output_type": "stream",
          "name": "stderr",
          "text": [
            "\u001b[1m\u001b[22m`geom_smooth()` using method = 'loess'\n"
          ]
        },
        {
          "output_type": "display_data",
          "data": {
            "text/plain": [
              "plot without title"
            ],
            "image/png": "[encoded data removed]"
          },
          "metadata": {
            "image/png": {
              "width": 300,
              "height": 240
            }
          }
        }
      ],
      "source": [
        "# YOUR SOLUTION HERE\n",
        "\n",
        "ggplot(subset(gapminder, continent == \"Europe\"), aes(y = gdpPercap, x = lifeExp)) +\n",
        "  geom_point() +\n",
        "  geom_smooth(formula = y ~ x, se = FALSE, color = \"blue\") +\n",
        "  labs(title = \"GDP per Capita vs. Life Expectancy for European countries\",\n",
        "       y = \"GDP per Capita\",\n",
        "       x = \"Life Expectancy\") +\n",
        "  theme_minimal()"
      ]
    }
  ],
  "metadata": {
    "colab": {
      "provenance": [],
      "include_colab_link": true
    },
    "kernelspec": {
      "display_name": "R",
      "language": "R",
      "name": "ir"
    },
    "language_info": {
      "codemirror_mode": "r",
      "file_extension": ".r",
      "mimetype": "text/x-r-source",
      "name": "R",
      "pygments_lexer": "r",
      "version": "4.3.1"
    }
  },
  "nbformat": 4,
  "nbformat_minor": 0
}